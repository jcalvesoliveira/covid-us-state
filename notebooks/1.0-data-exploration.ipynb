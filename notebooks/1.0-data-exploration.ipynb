{
 "cells": [
  {
   "cell_type": "markdown",
   "id": "9a85379c-6f5d-4c68-adbf-8011085d7d00",
   "metadata": {},
   "source": [
    "# Impact of Covid-19 on House Price Index for the United States"
   ]
  },
  {
   "cell_type": "code",
   "execution_count": 1,
   "id": "221bb22f-6caa-4125-abe5-bfc9986eede7",
   "metadata": {},
   "outputs": [],
   "source": [
    "import pandas as pd"
   ]
  }
 ],
 "metadata": {
  "kernelspec": {
   "display_name": "Python 3",
   "language": "python",
   "name": "python3"
  },
  "language_info": {
   "codemirror_mode": {
    "name": "ipython",
    "version": 3
   },
   "file_extension": ".py",
   "mimetype": "text/x-python",
   "name": "python",
   "nbconvert_exporter": "python",
   "pygments_lexer": "ipython3",
   "version": "3.8.8"
  }
 },
 "nbformat": 4,
 "nbformat_minor": 5
}
