{
 "cells": [
  {
   "cell_type": "markdown",
   "id": "9a85379c-6f5d-4c68-adbf-8011085d7d00",
   "metadata": {},
   "source": [
    "# Impact of Covid-19 Fourth Wave by States in the U.S\n",
    "\n",
    "Team members: \n",
    "Julio Oliveira, Yize Zhao\n",
    "\n",
    "Data sources:\n",
    "* The New York Times. (2021). Coronavirus (Covid-19) Data in the United States. Retrieved [09/22/2021], from https://github.com/nytimes/covid-19-data.\n",
    "* World Population review. Retrieved [09/22/2021], from https://worldpopulationreview.com/cb6119bc-dfb8-4039-ab80-459ab9c52512\n",
    "* The New York Times and Dynata. Estimates from The New York Times, based on roughly 250,000 interviews conducted by Dynata from July 2 to July 14.Retrieved [10/01/2021], from https://github.com/nytimes/covid-19-data/tree/master/mask-use\n",
    "\n",
    "Covid data dates: Between 2020-01-21 and 2021-09-21"
   ]
  },
  {
   "cell_type": "code",
   "execution_count": 1,
   "id": "221bb22f-6caa-4125-abe5-bfc9986eede7",
   "metadata": {},
   "outputs": [],
   "source": [
    "import numpy as np\n",
    "import pandas as pd\n",
    "from scipy import stats\n",
    "from datetime import timedelta\n",
    "from statsmodels.stats.proportion import proportions_ztest\n",
    "from fitter import Fitter, get_common_distributions, get_distributions\n",
    "\n",
    "import matplotlib\n",
    "from matplotlib.dates import DateFormatter\n",
    "import matplotlib.pyplot as plt\n",
    "import seaborn as sns"
   ]
  },
  {
   "cell_type": "code",
   "execution_count": 2,
   "id": "8260ac64-5248-4986-a96f-c00a5c75a05d",
   "metadata": {},
   "outputs": [],
   "source": [
    "covid_df = pd.read_csv('../data/external/us-states.csv', dtype={'fips': str})\n",
    "covid_df.columns = ['date', 'state', 'fips', 'cumulative_cases', 'cumulative_deaths']\n",
    "covid_df.date = pd.to_datetime(covid_df.date)\n",
    "covid_df = covid_df.sort_values(by=['state','date']).reset_index(drop=True)\n",
    "covid_df['year'] = covid_df.date.dt.year\n",
    "covid_df['month'] = covid_df.date.dt.month\n",
    "covid_df['year_month'] = covid_df.date.dt.strftime('%Y-%m')"
   ]
  },
  {
   "cell_type": "markdown",
   "id": "90ed6e5f-5a34-42bb-8e67-eb8ecda027cd",
   "metadata": {},
   "source": [
    "## Data cleaning"
   ]
  },
  {
   "cell_type": "markdown",
   "id": "0169111c-d3a8-4b3e-89fe-b3a5f7c3c336",
   "metadata": {},
   "source": [
    "### Florida negative entry"
   ]
  },
  {
   "cell_type": "code",
   "execution_count": 3,
   "id": "300295f1-6255-4c49-928f-6744251559f9",
   "metadata": {},
   "outputs": [
    {
     "name": "stdout",
     "output_type": "stream",
     "text": [
      "Cumulative cases on 2021-06-03: 2329859\n",
      "Cumulative cases on 2021-06-04: 2289332\n",
      "Diff: -40527\n"
     ]
    }
   ],
   "source": [
    "previous_day = covid_df[(covid_df.date == '2021-06-03') & (covid_df.state == 'Florida')].cumulative_cases.iloc[0]\n",
    "next_day = covid_df[(covid_df.date == '2021-06-04') & (covid_df.state == 'Florida')].cumulative_cases.iloc[0]\n",
    "print(f\"Cumulative cases on 2021-06-03: {previous_day}\")\n",
    "print(f\"Cumulative cases on 2021-06-04: {next_day}\")\n",
    "print(f\"Diff: {next_day - previous_day}\")"
   ]
  },
  {
   "cell_type": "markdown",
   "id": "ceedbb37-018b-4d87-b729-4e256ee34846",
   "metadata": {},
   "source": [
    "### Remove small islands\n",
    "Due to difference in demographics we remove the data for small islands "
   ]
  },
  {
   "cell_type": "code",
   "execution_count": 4,
   "id": "be0a5e0d-77d3-4994-9ac1-86fe7b17083b",
   "metadata": {},
   "outputs": [],
   "source": [
    "islands = {'Guam', 'Northern Mariana Islands', 'Virgin Islands'}\n",
    "covid_df = covid_df[~covid_df.state.isin(islands)].reset_index(drop=True)"
   ]
  },
  {
   "cell_type": "code",
   "execution_count": 5,
   "id": "820a8dc2-c7c8-4b05-a1a9-77a571bc6ef4",
   "metadata": {},
   "outputs": [
    {
     "data": {
      "text/plain": [
       "(29598, 8)"
      ]
     },
     "execution_count": 5,
     "metadata": {},
     "output_type": "execute_result"
    }
   ],
   "source": [
    "covid_df.shape"
   ]
  },
  {
   "cell_type": "code",
   "execution_count": 6,
   "id": "06fc86f0-7271-419d-8adc-54b20c3a5061",
   "metadata": {},
   "outputs": [
    {
     "data": {
      "text/html": [
       "<div>\n",
       "<style scoped>\n",
       "    .dataframe tbody tr th:only-of-type {\n",
       "        vertical-align: middle;\n",
       "    }\n",
       "\n",
       "    .dataframe tbody tr th {\n",
       "        vertical-align: top;\n",
       "    }\n",
       "\n",
       "    .dataframe thead th {\n",
       "        text-align: right;\n",
       "    }\n",
       "</style>\n",
       "<table border=\"1\" class=\"dataframe\">\n",
       "  <thead>\n",
       "    <tr style=\"text-align: right;\">\n",
       "      <th></th>\n",
       "      <th>date</th>\n",
       "      <th>state</th>\n",
       "      <th>fips</th>\n",
       "      <th>cumulative_cases</th>\n",
       "      <th>cumulative_deaths</th>\n",
       "      <th>year</th>\n",
       "      <th>month</th>\n",
       "      <th>year_month</th>\n",
       "    </tr>\n",
       "  </thead>\n",
       "  <tbody>\n",
       "    <tr>\n",
       "      <th>0</th>\n",
       "      <td>2020-03-13</td>\n",
       "      <td>Alabama</td>\n",
       "      <td>01</td>\n",
       "      <td>6</td>\n",
       "      <td>0</td>\n",
       "      <td>2020</td>\n",
       "      <td>3</td>\n",
       "      <td>2020-03</td>\n",
       "    </tr>\n",
       "    <tr>\n",
       "      <th>1</th>\n",
       "      <td>2020-03-14</td>\n",
       "      <td>Alabama</td>\n",
       "      <td>01</td>\n",
       "      <td>12</td>\n",
       "      <td>0</td>\n",
       "      <td>2020</td>\n",
       "      <td>3</td>\n",
       "      <td>2020-03</td>\n",
       "    </tr>\n",
       "    <tr>\n",
       "      <th>2</th>\n",
       "      <td>2020-03-15</td>\n",
       "      <td>Alabama</td>\n",
       "      <td>01</td>\n",
       "      <td>23</td>\n",
       "      <td>0</td>\n",
       "      <td>2020</td>\n",
       "      <td>3</td>\n",
       "      <td>2020-03</td>\n",
       "    </tr>\n",
       "    <tr>\n",
       "      <th>3</th>\n",
       "      <td>2020-03-16</td>\n",
       "      <td>Alabama</td>\n",
       "      <td>01</td>\n",
       "      <td>29</td>\n",
       "      <td>0</td>\n",
       "      <td>2020</td>\n",
       "      <td>3</td>\n",
       "      <td>2020-03</td>\n",
       "    </tr>\n",
       "    <tr>\n",
       "      <th>4</th>\n",
       "      <td>2020-03-17</td>\n",
       "      <td>Alabama</td>\n",
       "      <td>01</td>\n",
       "      <td>39</td>\n",
       "      <td>0</td>\n",
       "      <td>2020</td>\n",
       "      <td>3</td>\n",
       "      <td>2020-03</td>\n",
       "    </tr>\n",
       "  </tbody>\n",
       "</table>\n",
       "</div>"
      ],
      "text/plain": [
       "        date    state fips  cumulative_cases  cumulative_deaths  year  month  \\\n",
       "0 2020-03-13  Alabama   01                 6                  0  2020      3   \n",
       "1 2020-03-14  Alabama   01                12                  0  2020      3   \n",
       "2 2020-03-15  Alabama   01                23                  0  2020      3   \n",
       "3 2020-03-16  Alabama   01                29                  0  2020      3   \n",
       "4 2020-03-17  Alabama   01                39                  0  2020      3   \n",
       "\n",
       "  year_month  \n",
       "0    2020-03  \n",
       "1    2020-03  \n",
       "2    2020-03  \n",
       "3    2020-03  \n",
       "4    2020-03  "
      ]
     },
     "execution_count": 6,
     "metadata": {},
     "output_type": "execute_result"
    }
   ],
   "source": [
    "covid_df.head()"
   ]
  },
  {
   "cell_type": "markdown",
   "id": "db76b4b2-c2d0-4eb9-a8a1-8af6bff525c4",
   "metadata": {},
   "source": [
    "### Daily cases and moving average"
   ]
  },
  {
   "cell_type": "code",
   "execution_count": 7,
   "id": "43afc545-98b1-4d62-a011-9608abd97c7c",
   "metadata": {},
   "outputs": [],
   "source": [
    "deaths = []\n",
    "cases = []\n",
    "for i in range(len(covid_df)):\n",
    "    state = covid_df.state[i]\n",
    "    previous_day = covid_df.date[i] - timedelta(days=1)\n",
    "    previows_row = covid_df[(covid_df.state == state) & (covid_df.date == previous_day)]\n",
    "    if len(previows_row):\n",
    "        deaths.append(max(0, covid_df.cumulative_deaths[i] - previows_row.cumulative_deaths.iloc[0]))\n",
    "        cases.append(max(0, covid_df.cumulative_cases[i] - previows_row.cumulative_cases.iloc[0]))\n",
    "    else:\n",
    "        deaths.append(covid_df.cumulative_deaths[i])\n",
    "        cases.append(covid_df.cumulative_cases[i])\n",
    "\n",
    "covid_df['deaths'] = deaths \n",
    "covid_df['cases'] = cases"
   ]
  },
  {
   "cell_type": "code",
   "execution_count": 8,
   "id": "db1edb9a-3210-4d1c-a3e9-103052479fb4",
   "metadata": {},
   "outputs": [],
   "source": [
    "rolling_deaths = []\n",
    "rolling_cases = []\n",
    "\n",
    "for state in sorted(covid_df.state.unique()):\n",
    "    state_filtered = covid_df[covid_df.state == state].reset_index()\n",
    "    state_rolling_deaths = state_filtered['deaths'].rolling(7).mean()\n",
    "    state_rolling_cases = state_filtered['cases'].rolling(7).mean()\n",
    "    rolling_deaths += state_rolling_deaths.to_list()\n",
    "    rolling_cases += state_rolling_cases.to_list()\n",
    "    \n",
    "covid_df['7day_avg_deaths'] = rolling_deaths\n",
    "covid_df['7day_avg_cases'] = rolling_cases"
   ]
  },
  {
   "cell_type": "code",
   "execution_count": 9,
   "id": "4a7494c4-1615-4dc7-b7d0-026442142e41",
   "metadata": {},
   "outputs": [
    {
     "data": {
      "text/html": [
       "<div>\n",
       "<style scoped>\n",
       "    .dataframe tbody tr th:only-of-type {\n",
       "        vertical-align: middle;\n",
       "    }\n",
       "\n",
       "    .dataframe tbody tr th {\n",
       "        vertical-align: top;\n",
       "    }\n",
       "\n",
       "    .dataframe thead th {\n",
       "        text-align: right;\n",
       "    }\n",
       "</style>\n",
       "<table border=\"1\" class=\"dataframe\">\n",
       "  <thead>\n",
       "    <tr style=\"text-align: right;\">\n",
       "      <th></th>\n",
       "      <th>date</th>\n",
       "      <th>state</th>\n",
       "      <th>fips</th>\n",
       "      <th>cumulative_cases</th>\n",
       "      <th>cumulative_deaths</th>\n",
       "      <th>year</th>\n",
       "      <th>month</th>\n",
       "      <th>year_month</th>\n",
       "      <th>deaths</th>\n",
       "      <th>cases</th>\n",
       "      <th>7day_avg_deaths</th>\n",
       "      <th>7day_avg_cases</th>\n",
       "    </tr>\n",
       "  </thead>\n",
       "  <tbody>\n",
       "    <tr>\n",
       "      <th>29593</th>\n",
       "      <td>2021-09-17</td>\n",
       "      <td>Wyoming</td>\n",
       "      <td>56</td>\n",
       "      <td>83958</td>\n",
       "      <td>918</td>\n",
       "      <td>2021</td>\n",
       "      <td>9</td>\n",
       "      <td>2021-09</td>\n",
       "      <td>0</td>\n",
       "      <td>315</td>\n",
       "      <td>5.571429</td>\n",
       "      <td>473.571429</td>\n",
       "    </tr>\n",
       "    <tr>\n",
       "      <th>29594</th>\n",
       "      <td>2021-09-18</td>\n",
       "      <td>Wyoming</td>\n",
       "      <td>56</td>\n",
       "      <td>83958</td>\n",
       "      <td>918</td>\n",
       "      <td>2021</td>\n",
       "      <td>9</td>\n",
       "      <td>2021-09</td>\n",
       "      <td>0</td>\n",
       "      <td>0</td>\n",
       "      <td>5.571429</td>\n",
       "      <td>473.571429</td>\n",
       "    </tr>\n",
       "    <tr>\n",
       "      <th>29595</th>\n",
       "      <td>2021-09-19</td>\n",
       "      <td>Wyoming</td>\n",
       "      <td>56</td>\n",
       "      <td>83958</td>\n",
       "      <td>918</td>\n",
       "      <td>2021</td>\n",
       "      <td>9</td>\n",
       "      <td>2021-09</td>\n",
       "      <td>0</td>\n",
       "      <td>0</td>\n",
       "      <td>5.571429</td>\n",
       "      <td>473.571429</td>\n",
       "    </tr>\n",
       "    <tr>\n",
       "      <th>29596</th>\n",
       "      <td>2021-09-20</td>\n",
       "      <td>Wyoming</td>\n",
       "      <td>56</td>\n",
       "      <td>85499</td>\n",
       "      <td>918</td>\n",
       "      <td>2021</td>\n",
       "      <td>9</td>\n",
       "      <td>2021-09</td>\n",
       "      <td>0</td>\n",
       "      <td>1541</td>\n",
       "      <td>5.571429</td>\n",
       "      <td>524.857143</td>\n",
       "    </tr>\n",
       "    <tr>\n",
       "      <th>29597</th>\n",
       "      <td>2021-09-21</td>\n",
       "      <td>Wyoming</td>\n",
       "      <td>56</td>\n",
       "      <td>86052</td>\n",
       "      <td>955</td>\n",
       "      <td>2021</td>\n",
       "      <td>9</td>\n",
       "      <td>2021-09</td>\n",
       "      <td>37</td>\n",
       "      <td>553</td>\n",
       "      <td>5.285714</td>\n",
       "      <td>512.714286</td>\n",
       "    </tr>\n",
       "  </tbody>\n",
       "</table>\n",
       "</div>"
      ],
      "text/plain": [
       "            date    state fips  cumulative_cases  cumulative_deaths  year  \\\n",
       "29593 2021-09-17  Wyoming   56             83958                918  2021   \n",
       "29594 2021-09-18  Wyoming   56             83958                918  2021   \n",
       "29595 2021-09-19  Wyoming   56             83958                918  2021   \n",
       "29596 2021-09-20  Wyoming   56             85499                918  2021   \n",
       "29597 2021-09-21  Wyoming   56             86052                955  2021   \n",
       "\n",
       "       month year_month  deaths  cases  7day_avg_deaths  7day_avg_cases  \n",
       "29593      9    2021-09       0    315         5.571429      473.571429  \n",
       "29594      9    2021-09       0      0         5.571429      473.571429  \n",
       "29595      9    2021-09       0      0         5.571429      473.571429  \n",
       "29596      9    2021-09       0   1541         5.571429      524.857143  \n",
       "29597      9    2021-09      37    553         5.285714      512.714286  "
      ]
     },
     "execution_count": 9,
     "metadata": {},
     "output_type": "execute_result"
    }
   ],
   "source": [
    "covid_df.tail()"
   ]
  },
  {
   "cell_type": "code",
   "execution_count": 10,
   "id": "9353f3b1-ff73-4577-a668-e460fe9a9c29",
   "metadata": {},
   "outputs": [
    {
     "data": {
      "text/plain": [
       "cases     42450775\n",
       "deaths      681378\n",
       "dtype: int64"
      ]
     },
     "execution_count": 10,
     "metadata": {},
     "output_type": "execute_result"
    }
   ],
   "source": [
    "covid_df[['cases','deaths']].sum()"
   ]
  },
  {
   "cell_type": "code",
   "execution_count": 11,
   "id": "6deb86c3-2173-4ea7-aeda-45ce65007fed",
   "metadata": {},
   "outputs": [
    {
     "data": {
      "text/html": [
       "<div>\n",
       "<style scoped>\n",
       "    .dataframe tbody tr th:only-of-type {\n",
       "        vertical-align: middle;\n",
       "    }\n",
       "\n",
       "    .dataframe tbody tr th {\n",
       "        vertical-align: top;\n",
       "    }\n",
       "\n",
       "    .dataframe thead th {\n",
       "        text-align: right;\n",
       "    }\n",
       "</style>\n",
       "<table border=\"1\" class=\"dataframe\">\n",
       "  <thead>\n",
       "    <tr style=\"text-align: right;\">\n",
       "      <th></th>\n",
       "      <th>cases</th>\n",
       "      <th>deaths</th>\n",
       "    </tr>\n",
       "  </thead>\n",
       "  <tbody>\n",
       "    <tr>\n",
       "      <th>count</th>\n",
       "      <td>29598.000000</td>\n",
       "      <td>29598.000000</td>\n",
       "    </tr>\n",
       "    <tr>\n",
       "      <th>mean</th>\n",
       "      <td>1434.244712</td>\n",
       "      <td>23.021083</td>\n",
       "    </tr>\n",
       "    <tr>\n",
       "      <th>std</th>\n",
       "      <td>3112.160905</td>\n",
       "      <td>60.499367</td>\n",
       "    </tr>\n",
       "    <tr>\n",
       "      <th>min</th>\n",
       "      <td>0.000000</td>\n",
       "      <td>0.000000</td>\n",
       "    </tr>\n",
       "    <tr>\n",
       "      <th>25%</th>\n",
       "      <td>108.000000</td>\n",
       "      <td>1.000000</td>\n",
       "    </tr>\n",
       "    <tr>\n",
       "      <th>50%</th>\n",
       "      <td>468.500000</td>\n",
       "      <td>6.000000</td>\n",
       "    </tr>\n",
       "    <tr>\n",
       "      <th>75%</th>\n",
       "      <td>1417.000000</td>\n",
       "      <td>22.000000</td>\n",
       "    </tr>\n",
       "    <tr>\n",
       "      <th>max</th>\n",
       "      <td>64986.000000</td>\n",
       "      <td>2559.000000</td>\n",
       "    </tr>\n",
       "  </tbody>\n",
       "</table>\n",
       "</div>"
      ],
      "text/plain": [
       "              cases        deaths\n",
       "count  29598.000000  29598.000000\n",
       "mean    1434.244712     23.021083\n",
       "std     3112.160905     60.499367\n",
       "min        0.000000      0.000000\n",
       "25%      108.000000      1.000000\n",
       "50%      468.500000      6.000000\n",
       "75%     1417.000000     22.000000\n",
       "max    64986.000000   2559.000000"
      ]
     },
     "execution_count": 11,
     "metadata": {},
     "output_type": "execute_result"
    }
   ],
   "source": [
    "covid_df[['cases','deaths']].describe()"
   ]
  },
  {
   "cell_type": "code",
   "execution_count": 12,
   "id": "9ac64c8c-eed7-4d7f-8566-8d55f6c634d3",
   "metadata": {},
   "outputs": [],
   "source": [
    "covid_df.to_csv('../data/processed/us-states.csv')"
   ]
  },
  {
   "cell_type": "markdown",
   "id": "4616591b-80fa-4e97-8f00-6f03c76a6f4e",
   "metadata": {},
   "source": [
    "## USA metrics"
   ]
  },
  {
   "cell_type": "code",
   "execution_count": 13,
   "id": "52760e2d-cf43-4258-ae1d-796d04b81374",
   "metadata": {},
   "outputs": [],
   "source": [
    "us_covid = covid_df[['deaths','cases','date']].groupby([\"date\"]).sum().reset_index()\n",
    "us_covid['year_month'] = us_covid.date.dt.strftime('%Y-%m')\n",
    "us_covid['day_avg_deaths'] = us_covid['deaths'].rolling(7).mean()\n",
    "us_covid['day_avg_cases'] = us_covid['cases'].rolling(7).mean()"
   ]
  },
  {
   "cell_type": "code",
   "execution_count": 14,
   "id": "c4af4879-40d1-4b1c-89b5-8d8556e98c93",
   "metadata": {},
   "outputs": [
    {
     "data": {
      "text/html": [
       "<div>\n",
       "<style scoped>\n",
       "    .dataframe tbody tr th:only-of-type {\n",
       "        vertical-align: middle;\n",
       "    }\n",
       "\n",
       "    .dataframe tbody tr th {\n",
       "        vertical-align: top;\n",
       "    }\n",
       "\n",
       "    .dataframe thead th {\n",
       "        text-align: right;\n",
       "    }\n",
       "</style>\n",
       "<table border=\"1\" class=\"dataframe\">\n",
       "  <thead>\n",
       "    <tr style=\"text-align: right;\">\n",
       "      <th></th>\n",
       "      <th>cases</th>\n",
       "      <th>deaths</th>\n",
       "    </tr>\n",
       "  </thead>\n",
       "  <tbody>\n",
       "    <tr>\n",
       "      <th>count</th>\n",
       "      <td>610.000000</td>\n",
       "      <td>610.000000</td>\n",
       "    </tr>\n",
       "    <tr>\n",
       "      <th>mean</th>\n",
       "      <td>69591.434426</td>\n",
       "      <td>1117.013115</td>\n",
       "    </tr>\n",
       "    <tr>\n",
       "      <th>std</th>\n",
       "      <td>67088.313900</td>\n",
       "      <td>988.024301</td>\n",
       "    </tr>\n",
       "    <tr>\n",
       "      <th>min</th>\n",
       "      <td>0.000000</td>\n",
       "      <td>0.000000</td>\n",
       "    </tr>\n",
       "    <tr>\n",
       "      <th>25%</th>\n",
       "      <td>23732.750000</td>\n",
       "      <td>409.750000</td>\n",
       "    </tr>\n",
       "    <tr>\n",
       "      <th>50%</th>\n",
       "      <td>47789.000000</td>\n",
       "      <td>875.500000</td>\n",
       "    </tr>\n",
       "    <tr>\n",
       "      <th>75%</th>\n",
       "      <td>81768.750000</td>\n",
       "      <td>1484.500000</td>\n",
       "    </tr>\n",
       "    <tr>\n",
       "      <th>max</th>\n",
       "      <td>300827.000000</td>\n",
       "      <td>5463.000000</td>\n",
       "    </tr>\n",
       "  </tbody>\n",
       "</table>\n",
       "</div>"
      ],
      "text/plain": [
       "               cases       deaths\n",
       "count     610.000000   610.000000\n",
       "mean    69591.434426  1117.013115\n",
       "std     67088.313900   988.024301\n",
       "min         0.000000     0.000000\n",
       "25%     23732.750000   409.750000\n",
       "50%     47789.000000   875.500000\n",
       "75%     81768.750000  1484.500000\n",
       "max    300827.000000  5463.000000"
      ]
     },
     "execution_count": 14,
     "metadata": {},
     "output_type": "execute_result"
    }
   ],
   "source": [
    "us_covid[['cases','deaths']].describe()"
   ]
  },
  {
   "cell_type": "code",
   "execution_count": 15,
   "id": "2bd5d5aa-ff10-4676-86fd-a04078ea77b9",
   "metadata": {},
   "outputs": [
    {
     "data": {
      "image/png": "[encoded data removed]",
      "text/plain": [
       "<Figure size 864x432 with 1 Axes>"
      ]
     },
     "metadata": {
      "needs_background": "light"
     },
     "output_type": "display_data"
    }
   ],
   "source": [
    "fig, ax = plt.subplots(figsize=(12, 6))\n",
    "\n",
    "ax.bar(us_covid.date,\n",
    "       us_covid.cases,\n",
    "       color='gray',\n",
    "      label=\"total_cases\")\n",
    "ax.plot(us_covid.date,us_covid.day_avg_cases, label='7day_avg')\n",
    "ax.set(xlabel=\"Date\",\n",
    "       ylabel=\"Cases\",\n",
    "       title=\"Covid Cases\\nUSA\",\n",
    "       xlim=[min(us_covid.date), max((us_covid.date))])\n",
    "ax.legend(loc='best')\n",
    "\n",
    "date_form = DateFormatter(\"%Y-%m\")\n",
    "ax.xaxis.set_major_formatter(date_form)\n",
    "plt.show()"
   ]
  },
  {
   "cell_type": "markdown",
   "id": "cf6e1b67-403f-461f-afaf-d700c9ebbaa6",
   "metadata": {},
   "source": [
    "## US - States metrics"
   ]
  },
  {
   "cell_type": "code",
   "execution_count": 16,
   "id": "c82825b3-f4d0-49e4-ae8a-5529c490ae6b",
   "metadata": {},
   "outputs": [
    {
     "data": {
      "image/png": "[encoded data removed]",
      "text/plain": [
       "<Figure size 864x432 with 1 Axes>"
      ]
     },
     "metadata": {
      "needs_background": "light"
     },
     "output_type": "display_data"
    }
   ],
   "source": [
    "fig, ax = plt.subplots(figsize=(12, 6))\n",
    "\n",
    "ax.boxplot(covid_df.groupby('state').sum()['cases'])\n",
    "ax.set(ylabel=\"Total Cases\",\n",
    "       title=\"Boxplot of Total Covid Cases\\nUS States\")\n",
    "plt.show()"
   ]
  },
  {
   "cell_type": "markdown",
   "id": "f5394fb5-2d83-47bc-893a-4bf1bf159cb2",
   "metadata": {},
   "source": [
    "### Calculate relative cases and deaths"
   ]
  },
  {
   "cell_type": "code",
   "execution_count": 17,
   "id": "83b42058-26c2-4884-8ae3-ead3ed0d5193",
   "metadata": {},
   "outputs": [],
   "source": [
    "states_population = pd.read_csv('../data/external/states_population.csv')"
   ]
  },
  {
   "cell_type": "code",
   "execution_count": 18,
   "id": "92c2bb57-2fa4-4ab4-ab14-84e1aac94a0a",
   "metadata": {},
   "outputs": [
    {
     "data": {
      "text/html": [
       "<div>\n",
       "<style scoped>\n",
       "    .dataframe tbody tr th:only-of-type {\n",
       "        vertical-align: middle;\n",
       "    }\n",
       "\n",
       "    .dataframe tbody tr th {\n",
       "        vertical-align: top;\n",
       "    }\n",
       "\n",
       "    .dataframe thead th {\n",
       "        text-align: right;\n",
       "    }\n",
       "</style>\n",
       "<table border=\"1\" class=\"dataframe\">\n",
       "  <thead>\n",
       "    <tr style=\"text-align: right;\">\n",
       "      <th></th>\n",
       "      <th>rank</th>\n",
       "      <th>State</th>\n",
       "      <th>Pop</th>\n",
       "      <th>Growth</th>\n",
       "      <th>Pop2018</th>\n",
       "      <th>Pop2010</th>\n",
       "      <th>growthSince2010</th>\n",
       "      <th>Percent</th>\n",
       "      <th>density</th>\n",
       "    </tr>\n",
       "  </thead>\n",
       "  <tbody>\n",
       "    <tr>\n",
       "      <th>0</th>\n",
       "      <td>1</td>\n",
       "      <td>California</td>\n",
       "      <td>39613493</td>\n",
       "      <td>0.0038</td>\n",
       "      <td>39461588</td>\n",
       "      <td>37319502</td>\n",
       "      <td>0.0615</td>\n",
       "      <td>0.1184</td>\n",
       "      <td>254.2929</td>\n",
       "    </tr>\n",
       "    <tr>\n",
       "      <th>1</th>\n",
       "      <td>2</td>\n",
       "      <td>Texas</td>\n",
       "      <td>29730311</td>\n",
       "      <td>0.0385</td>\n",
       "      <td>28628666</td>\n",
       "      <td>25241971</td>\n",
       "      <td>0.1778</td>\n",
       "      <td>0.0889</td>\n",
       "      <td>113.8081</td>\n",
       "    </tr>\n",
       "    <tr>\n",
       "      <th>2</th>\n",
       "      <td>3</td>\n",
       "      <td>Florida</td>\n",
       "      <td>21944577</td>\n",
       "      <td>0.0330</td>\n",
       "      <td>21244317</td>\n",
       "      <td>18845537</td>\n",
       "      <td>0.1644</td>\n",
       "      <td>0.0656</td>\n",
       "      <td>409.2229</td>\n",
       "    </tr>\n",
       "    <tr>\n",
       "      <th>3</th>\n",
       "      <td>4</td>\n",
       "      <td>New York</td>\n",
       "      <td>19299981</td>\n",
       "      <td>-0.0118</td>\n",
       "      <td>19530351</td>\n",
       "      <td>19399878</td>\n",
       "      <td>-0.0051</td>\n",
       "      <td>0.0577</td>\n",
       "      <td>409.5400</td>\n",
       "    </tr>\n",
       "    <tr>\n",
       "      <th>4</th>\n",
       "      <td>5</td>\n",
       "      <td>Pennsylvania</td>\n",
       "      <td>12804123</td>\n",
       "      <td>0.0003</td>\n",
       "      <td>12800922</td>\n",
       "      <td>12711160</td>\n",
       "      <td>0.0073</td>\n",
       "      <td>0.0383</td>\n",
       "      <td>286.1704</td>\n",
       "    </tr>\n",
       "  </tbody>\n",
       "</table>\n",
       "</div>"
      ],
      "text/plain": [
       "   rank         State       Pop  Growth   Pop2018   Pop2010  growthSince2010  \\\n",
       "0     1    California  39613493  0.0038  39461588  37319502           0.0615   \n",
       "1     2         Texas  29730311  0.0385  28628666  25241971           0.1778   \n",
       "2     3       Florida  21944577  0.0330  21244317  18845537           0.1644   \n",
       "3     4      New York  19299981 -0.0118  19530351  19399878          -0.0051   \n",
       "4     5  Pennsylvania  12804123  0.0003  12800922  12711160           0.0073   \n",
       "\n",
       "   Percent   density  \n",
       "0   0.1184  254.2929  \n",
       "1   0.0889  113.8081  \n",
       "2   0.0656  409.2229  \n",
       "3   0.0577  409.5400  \n",
       "4   0.0383  286.1704  "
      ]
     },
     "execution_count": 18,
     "metadata": {},
     "output_type": "execute_result"
    }
   ],
   "source": [
    "states_population.head()"
   ]
  },
  {
   "cell_type": "code",
   "execution_count": 19,
   "id": "f57f9f66-fa4c-47aa-9547-55b3da800ad6",
   "metadata": {},
   "outputs": [],
   "source": [
    "total_by_state = covid_df[['state','deaths','cases']][covid_df.date > '2021-07-01'].groupby('state').sum()\n",
    "total_by_state = total_by_state.join(states_population.set_index('State'))\n",
    "total_by_state['relative_cases'] = total_by_state.cases / total_by_state.Pop\n",
    "total_by_state['relative_deaths'] = total_by_state.deaths / total_by_state.Pop"
   ]
  },
  {
   "cell_type": "code",
   "execution_count": 20,
   "id": "0dfe2417-c563-46ae-a4cd-64cba7a1eb11",
   "metadata": {},
   "outputs": [
    {
     "data": {
      "text/html": [
       "<div>\n",
       "<style scoped>\n",
       "    .dataframe tbody tr th:only-of-type {\n",
       "        vertical-align: middle;\n",
       "    }\n",
       "\n",
       "    .dataframe tbody tr th {\n",
       "        vertical-align: top;\n",
       "    }\n",
       "\n",
       "    .dataframe thead th {\n",
       "        text-align: right;\n",
       "    }\n",
       "</style>\n",
       "<table border=\"1\" class=\"dataframe\">\n",
       "  <thead>\n",
       "    <tr style=\"text-align: right;\">\n",
       "      <th></th>\n",
       "      <th>deaths</th>\n",
       "      <th>cases</th>\n",
       "      <th>rank</th>\n",
       "      <th>Pop</th>\n",
       "      <th>Growth</th>\n",
       "      <th>Pop2018</th>\n",
       "      <th>Pop2010</th>\n",
       "      <th>growthSince2010</th>\n",
       "      <th>Percent</th>\n",
       "      <th>density</th>\n",
       "      <th>relative_cases</th>\n",
       "      <th>relative_deaths</th>\n",
       "    </tr>\n",
       "    <tr>\n",
       "      <th>state</th>\n",
       "      <th></th>\n",
       "      <th></th>\n",
       "      <th></th>\n",
       "      <th></th>\n",
       "      <th></th>\n",
       "      <th></th>\n",
       "      <th></th>\n",
       "      <th></th>\n",
       "      <th></th>\n",
       "      <th></th>\n",
       "      <th></th>\n",
       "      <th></th>\n",
       "    </tr>\n",
       "  </thead>\n",
       "  <tbody>\n",
       "    <tr>\n",
       "      <th>Alabama</th>\n",
       "      <td>2108</td>\n",
       "      <td>224548</td>\n",
       "      <td>24</td>\n",
       "      <td>4934193</td>\n",
       "      <td>0.0095</td>\n",
       "      <td>4887681</td>\n",
       "      <td>4785437</td>\n",
       "      <td>0.0311</td>\n",
       "      <td>0.0147</td>\n",
       "      <td>97.4271</td>\n",
       "      <td>0.045509</td>\n",
       "      <td>0.000427</td>\n",
       "    </tr>\n",
       "    <tr>\n",
       "      <th>Alaska</th>\n",
       "      <td>103</td>\n",
       "      <td>31882</td>\n",
       "      <td>49</td>\n",
       "      <td>724357</td>\n",
       "      <td>-0.0147</td>\n",
       "      <td>735139</td>\n",
       "      <td>713910</td>\n",
       "      <td>0.0146</td>\n",
       "      <td>0.0022</td>\n",
       "      <td>1.2694</td>\n",
       "      <td>0.044014</td>\n",
       "      <td>0.000142</td>\n",
       "    </tr>\n",
       "    <tr>\n",
       "      <th>Arizona</th>\n",
       "      <td>1647</td>\n",
       "      <td>175410</td>\n",
       "      <td>14</td>\n",
       "      <td>7520103</td>\n",
       "      <td>0.0506</td>\n",
       "      <td>7158024</td>\n",
       "      <td>6407172</td>\n",
       "      <td>0.1737</td>\n",
       "      <td>0.0225</td>\n",
       "      <td>66.2016</td>\n",
       "      <td>0.023325</td>\n",
       "      <td>0.000219</td>\n",
       "    </tr>\n",
       "    <tr>\n",
       "      <th>Arkansas</th>\n",
       "      <td>1590</td>\n",
       "      <td>136768</td>\n",
       "      <td>34</td>\n",
       "      <td>3033946</td>\n",
       "      <td>0.0080</td>\n",
       "      <td>3009733</td>\n",
       "      <td>2921964</td>\n",
       "      <td>0.0383</td>\n",
       "      <td>0.0091</td>\n",
       "      <td>58.3059</td>\n",
       "      <td>0.045079</td>\n",
       "      <td>0.000524</td>\n",
       "    </tr>\n",
       "    <tr>\n",
       "      <th>California</th>\n",
       "      <td>4958</td>\n",
       "      <td>803289</td>\n",
       "      <td>1</td>\n",
       "      <td>39613493</td>\n",
       "      <td>0.0038</td>\n",
       "      <td>39461588</td>\n",
       "      <td>37319502</td>\n",
       "      <td>0.0615</td>\n",
       "      <td>0.1184</td>\n",
       "      <td>254.2929</td>\n",
       "      <td>0.020278</td>\n",
       "      <td>0.000125</td>\n",
       "    </tr>\n",
       "  </tbody>\n",
       "</table>\n",
       "</div>"
      ],
      "text/plain": [
       "            deaths   cases  rank       Pop  Growth   Pop2018   Pop2010  \\\n",
       "state                                                                    \n",
       "Alabama       2108  224548    24   4934193  0.0095   4887681   4785437   \n",
       "Alaska         103   31882    49    724357 -0.0147    735139    713910   \n",
       "Arizona       1647  175410    14   7520103  0.0506   7158024   6407172   \n",
       "Arkansas      1590  136768    34   3033946  0.0080   3009733   2921964   \n",
       "California    4958  803289     1  39613493  0.0038  39461588  37319502   \n",
       "\n",
       "            growthSince2010  Percent   density  relative_cases  \\\n",
       "state                                                            \n",
       "Alabama              0.0311   0.0147   97.4271        0.045509   \n",
       "Alaska               0.0146   0.0022    1.2694        0.044014   \n",
       "Arizona              0.1737   0.0225   66.2016        0.023325   \n",
       "Arkansas             0.0383   0.0091   58.3059        0.045079   \n",
       "California           0.0615   0.1184  254.2929        0.020278   \n",
       "\n",
       "            relative_deaths  \n",
       "state                        \n",
       "Alabama            0.000427  \n",
       "Alaska             0.000142  \n",
       "Arizona            0.000219  \n",
       "Arkansas           0.000524  \n",
       "California         0.000125  "
      ]
     },
     "execution_count": 20,
     "metadata": {},
     "output_type": "execute_result"
    }
   ],
   "source": [
    "total_by_state.head()"
   ]
  },
  {
   "cell_type": "code",
   "execution_count": 21,
   "id": "2c26b839-35da-45d4-933c-b7a41f46aaaf",
   "metadata": {},
   "outputs": [
    {
     "data": {
      "image/png": "[encoded data removed]",
      "text/plain": [
       "<Figure size 864x432 with 1 Axes>"
      ]
     },
     "metadata": {
      "needs_background": "light"
     },
     "output_type": "display_data"
    }
   ],
   "source": [
    "fig, ax = plt.subplots(figsize=(12, 6))\n",
    "\n",
    "ax.scatter(total_by_state.Pop,\n",
    "       total_by_state.cases,\n",
    "       color='gray',\n",
    "      label=\"states\")\n",
    "\n",
    "ax.set(xlabel=\"Population Size\",\n",
    "       ylabel=\"Cases\",\n",
    "       title=\"Covid Cases vs Population\\nUS-States\",\n",
    "       xlim=[min(total_by_state.Pop), max((total_by_state.Pop))])\n",
    "ax.legend(loc='best')\n",
    "\n",
    "for i, txt in enumerate(total_by_state.index):\n",
    "    if total_by_state.Pop.iloc[i] > 10000000:\n",
    "        ax.annotate(txt, (total_by_state.Pop.iloc[i], total_by_state.cases.iloc[i]))\n",
    "\n",
    "line_limits_y = (total_by_state.cases.min(), total_by_state.cases.max()) \n",
    "line_limits_x = (total_by_state.Pop.min(), total_by_state.Pop.max())   \n",
    "plt.plot(line_limits_x, line_limits_y, 'k-', color = 'r')\n",
    "\n",
    "plt.show()"
   ]
  },
  {
   "cell_type": "code",
   "execution_count": 22,
   "id": "51b42e1b-ae2f-496d-88d4-750fc6a831b6",
   "metadata": {},
   "outputs": [
    {
     "data": {
      "image/png": "[encoded data removed]",
      "text/plain": [
       "<Figure size 864x432 with 1 Axes>"
      ]
     },
     "metadata": {
      "needs_background": "light"
     },
     "output_type": "display_data"
    }
   ],
   "source": [
    "fig, ax = plt.subplots(figsize=(12, 6))\n",
    "\n",
    "ax.scatter(total_by_state.Pop,\n",
    "       total_by_state.deaths,\n",
    "       color='gray',\n",
    "      label=\"states\")\n",
    "\n",
    "ax.set(xlabel=\"Population Size\",\n",
    "       ylabel=\"Cases\",\n",
    "       title=\"Covid Cases vs Population\\nUS-States\",\n",
    "       xlim=[min(total_by_state.Pop), max((total_by_state.Pop))])\n",
    "ax.legend(loc='best')\n",
    "\n",
    "for i, txt in enumerate(total_by_state.index):\n",
    "    if total_by_state.Pop.iloc[i] > 10000000:\n",
    "        ax.annotate(txt, (total_by_state.Pop.iloc[i], total_by_state.deaths.iloc[i]))\n",
    "\n",
    "line_limits_y = (total_by_state.deaths.min(), total_by_state.deaths.max()) \n",
    "line_limits_x = (total_by_state.Pop.min(), total_by_state.Pop.max())   \n",
    "plt.plot(line_limits_x, line_limits_y, 'k-', color = 'r')\n",
    "\n",
    "plt.show()"
   ]
  },
  {
   "cell_type": "code",
   "execution_count": 23,
   "id": "a1a42fa0-06d4-44bc-b80b-12e7c678d432",
   "metadata": {},
   "outputs": [
    {
     "name": "stdout",
     "output_type": "stream",
     "text": [
      "US total cases: 8,691,543\n",
      "US Estimated population: 334,537,941\n",
      "Cases by population: 0.02598\n",
      "Variance: 0.0001591\n",
      "Std deviation: 0.01261\n"
     ]
    }
   ],
   "source": [
    "print(f'US total cases: {total_by_state.cases.sum():,}')\n",
    "print(f'US Estimated population: {total_by_state.Pop.sum():,}')\n",
    "print(f'Cases by population: {total_by_state.cases.sum() / total_by_state.Pop.sum():.4}')\n",
    "print(f'Variance: {total_by_state.relative_cases.var():.4}')\n",
    "print(f'Std deviation: {total_by_state.relative_cases.std():.4}')"
   ]
  },
  {
   "cell_type": "code",
   "execution_count": 24,
   "id": "f536c59e-1bdc-4a25-b92a-f9723bee8fa4",
   "metadata": {},
   "outputs": [],
   "source": [
    "def states_metrics(state:str, alternative: str):\n",
    "    print(f'{state} total cases: {total_by_state.cases[state]:,}')\n",
    "    print(f'{state} cases from US total: {total_by_state.cases[state] / total_by_state.cases.sum():.4}')\n",
    "    print(f'{state} estimated population: {total_by_state.Pop[state]:,}')\n",
    "    print(f'{state} cases by population: {total_by_state.cases[state] / total_by_state.Pop[state]:.4}')"
   ]
  },
  {
   "cell_type": "markdown",
   "id": "c9f046e4-e0ab-489b-baf3-1a86c253045f",
   "metadata": {},
   "source": [
    "### Florida"
   ]
  },
  {
   "cell_type": "code",
   "execution_count": 25,
   "id": "741bafe0-17d0-451e-a0a2-f3cec293c01b",
   "metadata": {},
   "outputs": [
    {
     "name": "stdout",
     "output_type": "stream",
     "text": [
      "Florida total cases: 1,185,261\n",
      "Florida cases from US total: 0.1364\n",
      "Florida estimated population: 21,944,577\n",
      "Florida cases by population: 0.05401\n"
     ]
    }
   ],
   "source": [
    "states_metrics('Florida', 'larger')"
   ]
  },
  {
   "cell_type": "markdown",
   "id": "9e465c2e-59fb-4110-a29b-828235a1f684",
   "metadata": {},
   "source": [
    "### New York"
   ]
  },
  {
   "cell_type": "code",
   "execution_count": 26,
   "id": "2e5cc841-25c6-438d-923c-d2848462b707",
   "metadata": {},
   "outputs": [
    {
     "name": "stdout",
     "output_type": "stream",
     "text": [
      "New York total cases: 266,620\n",
      "New York cases from US total: 0.03068\n",
      "New York estimated population: 19,299,981\n",
      "New York cases by population: 0.01381\n"
     ]
    }
   ],
   "source": [
    "states_metrics('New York', 'smaller')"
   ]
  },
  {
   "cell_type": "code",
   "execution_count": 27,
   "id": "ca8941f5-76d6-4c5d-bafe-fd23521f75ca",
   "metadata": {},
   "outputs": [
    {
     "data": {
      "text/html": [
       "<div>\n",
       "<style scoped>\n",
       "    .dataframe tbody tr th:only-of-type {\n",
       "        vertical-align: middle;\n",
       "    }\n",
       "\n",
       "    .dataframe tbody tr th {\n",
       "        vertical-align: top;\n",
       "    }\n",
       "\n",
       "    .dataframe thead th {\n",
       "        text-align: right;\n",
       "    }\n",
       "</style>\n",
       "<table border=\"1\" class=\"dataframe\">\n",
       "  <thead>\n",
       "    <tr style=\"text-align: right;\">\n",
       "      <th></th>\n",
       "      <th>deaths</th>\n",
       "      <th>cases</th>\n",
       "      <th>relative_cases</th>\n",
       "      <th>relative_deaths</th>\n",
       "      <th>density</th>\n",
       "    </tr>\n",
       "  </thead>\n",
       "  <tbody>\n",
       "    <tr>\n",
       "      <th>deaths</th>\n",
       "      <td>1.000000</td>\n",
       "      <td>0.963168</td>\n",
       "      <td>0.443138</td>\n",
       "      <td>0.535591</td>\n",
       "      <td>-0.079024</td>\n",
       "    </tr>\n",
       "    <tr>\n",
       "      <th>cases</th>\n",
       "      <td>0.963168</td>\n",
       "      <td>1.000000</td>\n",
       "      <td>0.396025</td>\n",
       "      <td>0.433083</td>\n",
       "      <td>-0.092579</td>\n",
       "    </tr>\n",
       "    <tr>\n",
       "      <th>relative_cases</th>\n",
       "      <td>0.443138</td>\n",
       "      <td>0.396025</td>\n",
       "      <td>1.000000</td>\n",
       "      <td>0.871808</td>\n",
       "      <td>-0.184736</td>\n",
       "    </tr>\n",
       "    <tr>\n",
       "      <th>relative_deaths</th>\n",
       "      <td>0.535591</td>\n",
       "      <td>0.433083</td>\n",
       "      <td>0.871808</td>\n",
       "      <td>1.000000</td>\n",
       "      <td>-0.192620</td>\n",
       "    </tr>\n",
       "    <tr>\n",
       "      <th>density</th>\n",
       "      <td>-0.079024</td>\n",
       "      <td>-0.092579</td>\n",
       "      <td>-0.184736</td>\n",
       "      <td>-0.192620</td>\n",
       "      <td>1.000000</td>\n",
       "    </tr>\n",
       "  </tbody>\n",
       "</table>\n",
       "</div>"
      ],
      "text/plain": [
       "                   deaths     cases  relative_cases  relative_deaths   density\n",
       "deaths           1.000000  0.963168        0.443138         0.535591 -0.079024\n",
       "cases            0.963168  1.000000        0.396025         0.433083 -0.092579\n",
       "relative_cases   0.443138  0.396025        1.000000         0.871808 -0.184736\n",
       "relative_deaths  0.535591  0.433083        0.871808         1.000000 -0.192620\n",
       "density         -0.079024 -0.092579       -0.184736        -0.192620  1.000000"
      ]
     },
     "execution_count": 27,
     "metadata": {},
     "output_type": "execute_result"
    }
   ],
   "source": [
    "total_by_state[['deaths', 'cases', 'relative_cases','relative_deaths', 'density']].corr()"
   ]
  },
  {
   "cell_type": "markdown",
   "id": "410aecc5-d6b9-47d9-ae6c-de1a9a5d8f72",
   "metadata": {},
   "source": [
    "## Mask Use\n",
    "\n",
    ">This data comes from a large number of interviews conducted online by the global data and survey firm Dynata at the request of The New York Times. The firm asked a question about mask use to obtain 250,000 survey responses between July 2 and July 14, enough data to provide estimates more detailed than the state level. (Several states have imposed new mask requirements since the completion of these interviews.)\n",
    ">\n",
    ">Specifically, each participant was asked: How often do you wear a mask in public when you expect to be within six feet of another person?\n",
    ">\n",
    ">This survey was conducted a single time, and at this point we have no plans to update the data or conduct the survey again.\"\n",
    "\n",
    "https://github.com/nytimes/covid-19-data/tree/master/mask-use"
   ]
  },
  {
   "cell_type": "code",
   "execution_count": 28,
   "id": "25ebd60d-be96-4183-891e-f74fdf6c18a7",
   "metadata": {},
   "outputs": [
    {
     "data": {
      "text/html": [
       "<div>\n",
       "<style scoped>\n",
       "    .dataframe tbody tr th:only-of-type {\n",
       "        vertical-align: middle;\n",
       "    }\n",
       "\n",
       "    .dataframe tbody tr th {\n",
       "        vertical-align: top;\n",
       "    }\n",
       "\n",
       "    .dataframe thead th {\n",
       "        text-align: right;\n",
       "    }\n",
       "</style>\n",
       "<table border=\"1\" class=\"dataframe\">\n",
       "  <thead>\n",
       "    <tr style=\"text-align: right;\">\n",
       "      <th></th>\n",
       "      <th>COUNTYFP</th>\n",
       "      <th>NEVER</th>\n",
       "      <th>RARELY</th>\n",
       "      <th>SOMETIMES</th>\n",
       "      <th>FREQUENTLY</th>\n",
       "      <th>ALWAYS</th>\n",
       "      <th>STATEFP</th>\n",
       "      <th>state</th>\n",
       "    </tr>\n",
       "  </thead>\n",
       "  <tbody>\n",
       "    <tr>\n",
       "      <th>0</th>\n",
       "      <td>01001</td>\n",
       "      <td>0.053</td>\n",
       "      <td>0.074</td>\n",
       "      <td>0.134</td>\n",
       "      <td>0.295</td>\n",
       "      <td>0.444</td>\n",
       "      <td>01</td>\n",
       "      <td>Alabama</td>\n",
       "    </tr>\n",
       "    <tr>\n",
       "      <th>1</th>\n",
       "      <td>01003</td>\n",
       "      <td>0.083</td>\n",
       "      <td>0.059</td>\n",
       "      <td>0.098</td>\n",
       "      <td>0.323</td>\n",
       "      <td>0.436</td>\n",
       "      <td>01</td>\n",
       "      <td>Alabama</td>\n",
       "    </tr>\n",
       "    <tr>\n",
       "      <th>2</th>\n",
       "      <td>01005</td>\n",
       "      <td>0.067</td>\n",
       "      <td>0.121</td>\n",
       "      <td>0.120</td>\n",
       "      <td>0.201</td>\n",
       "      <td>0.491</td>\n",
       "      <td>01</td>\n",
       "      <td>Alabama</td>\n",
       "    </tr>\n",
       "    <tr>\n",
       "      <th>3</th>\n",
       "      <td>01007</td>\n",
       "      <td>0.020</td>\n",
       "      <td>0.034</td>\n",
       "      <td>0.096</td>\n",
       "      <td>0.278</td>\n",
       "      <td>0.572</td>\n",
       "      <td>01</td>\n",
       "      <td>Alabama</td>\n",
       "    </tr>\n",
       "    <tr>\n",
       "      <th>4</th>\n",
       "      <td>01009</td>\n",
       "      <td>0.053</td>\n",
       "      <td>0.114</td>\n",
       "      <td>0.180</td>\n",
       "      <td>0.194</td>\n",
       "      <td>0.459</td>\n",
       "      <td>01</td>\n",
       "      <td>Alabama</td>\n",
       "    </tr>\n",
       "  </tbody>\n",
       "</table>\n",
       "</div>"
      ],
      "text/plain": [
       "  COUNTYFP  NEVER  RARELY  SOMETIMES  FREQUENTLY  ALWAYS STATEFP    state\n",
       "0    01001  0.053   0.074      0.134       0.295   0.444      01  Alabama\n",
       "1    01003  0.083   0.059      0.098       0.323   0.436      01  Alabama\n",
       "2    01005  0.067   0.121      0.120       0.201   0.491      01  Alabama\n",
       "3    01007  0.020   0.034      0.096       0.278   0.572      01  Alabama\n",
       "4    01009  0.053   0.114      0.180       0.194   0.459      01  Alabama"
      ]
     },
     "execution_count": 28,
     "metadata": {},
     "output_type": "execute_result"
    }
   ],
   "source": [
    "mask_use_df = pd.read_csv('../data/external/mask_use.csv', dtype={'COUNTYFP':str})\n",
    "mask_use_df['STATEFP'] = mask_use_df.COUNTYFP.str[:2]\n",
    "mask_use_df = mask_use_df.join(covid_df[['state','fips']].drop_duplicates().set_index('fips'), how='left', on='STATEFP')\n",
    "mask_use_df.head()"
   ]
  },
  {
   "cell_type": "code",
   "execution_count": 29,
   "id": "3eeb8020-7f2b-4147-b248-9f1f96b6d9cb",
   "metadata": {},
   "outputs": [
    {
     "data": {
      "text/html": [
       "<div>\n",
       "<style scoped>\n",
       "    .dataframe tbody tr th:only-of-type {\n",
       "        vertical-align: middle;\n",
       "    }\n",
       "\n",
       "    .dataframe tbody tr th {\n",
       "        vertical-align: top;\n",
       "    }\n",
       "\n",
       "    .dataframe thead th {\n",
       "        text-align: right;\n",
       "    }\n",
       "</style>\n",
       "<table border=\"1\" class=\"dataframe\">\n",
       "  <thead>\n",
       "    <tr style=\"text-align: right;\">\n",
       "      <th></th>\n",
       "      <th>state</th>\n",
       "      <th>STATEFP</th>\n",
       "      <th>COUNTYFP</th>\n",
       "      <th>frequency</th>\n",
       "      <th>value</th>\n",
       "    </tr>\n",
       "  </thead>\n",
       "  <tbody>\n",
       "    <tr>\n",
       "      <th>0</th>\n",
       "      <td>Alabama</td>\n",
       "      <td>01</td>\n",
       "      <td>01001</td>\n",
       "      <td>NEVER</td>\n",
       "      <td>0.053</td>\n",
       "    </tr>\n",
       "    <tr>\n",
       "      <th>1</th>\n",
       "      <td>Alabama</td>\n",
       "      <td>01</td>\n",
       "      <td>01003</td>\n",
       "      <td>NEVER</td>\n",
       "      <td>0.083</td>\n",
       "    </tr>\n",
       "    <tr>\n",
       "      <th>2</th>\n",
       "      <td>Alabama</td>\n",
       "      <td>01</td>\n",
       "      <td>01005</td>\n",
       "      <td>NEVER</td>\n",
       "      <td>0.067</td>\n",
       "    </tr>\n",
       "    <tr>\n",
       "      <th>3</th>\n",
       "      <td>Alabama</td>\n",
       "      <td>01</td>\n",
       "      <td>01007</td>\n",
       "      <td>NEVER</td>\n",
       "      <td>0.020</td>\n",
       "    </tr>\n",
       "    <tr>\n",
       "      <th>4</th>\n",
       "      <td>Alabama</td>\n",
       "      <td>01</td>\n",
       "      <td>01009</td>\n",
       "      <td>NEVER</td>\n",
       "      <td>0.053</td>\n",
       "    </tr>\n",
       "  </tbody>\n",
       "</table>\n",
       "</div>"
      ],
      "text/plain": [
       "     state STATEFP COUNTYFP frequency  value\n",
       "0  Alabama      01    01001     NEVER  0.053\n",
       "1  Alabama      01    01003     NEVER  0.083\n",
       "2  Alabama      01    01005     NEVER  0.067\n",
       "3  Alabama      01    01007     NEVER  0.020\n",
       "4  Alabama      01    01009     NEVER  0.053"
      ]
     },
     "execution_count": 29,
     "metadata": {},
     "output_type": "execute_result"
    }
   ],
   "source": [
    "mask_use_df_melt = mask_use_df.melt(id_vars=[\"state\", \"STATEFP\",'COUNTYFP'], var_name=\"frequency\", value_name=\"value\")\n",
    "mask_use_df_melt.head()"
   ]
  },
  {
   "cell_type": "code",
   "execution_count": 30,
   "id": "96c41fb8-75b8-4350-9212-d0db37968bdc",
   "metadata": {},
   "outputs": [
    {
     "data": {
      "image/png": "[encoded data removed]",
      "text/plain": [
       "<Figure size 864x432 with 1 Axes>"
      ]
     },
     "metadata": {
      "needs_background": "light"
     },
     "output_type": "display_data"
    }
   ],
   "source": [
    "fig, ax = plt.subplots(figsize=(12, 6))\n",
    "ax.set(title=\"Mask use\\nCounties\")\n",
    "ax = sns.boxplot(x=\"frequency\", y=\"value\", hue=\"state\",\n",
    "                 data=mask_use_df_melt[mask_use_df_melt.state.isin({'Florida', 'New York'})], \n",
    "                 dodge=True, ax = ax, palette=['gray','blue'])"
   ]
  },
  {
   "cell_type": "code",
   "execution_count": 31,
   "id": "77b18aea-43e2-4dd7-914a-4ccf28180d4a",
   "metadata": {},
   "outputs": [
    {
     "name": "stderr",
     "output_type": "stream",
     "text": [
      "<ipython-input-31-0b4f41c63204>:1: FutureWarning: Dropping of nuisance columns in DataFrame reductions (with 'numeric_only=None') is deprecated; in a future version this will raise TypeError.  Select only valid columns before calling the reduction.\n",
      "  mask_use_df.head().mean()[['NEVER','RARELY','SOMETIMES','FREQUENTLY','ALWAYS']]\n"
     ]
    },
    {
     "data": {
      "text/plain": [
       "NEVER         0.0552\n",
       "RARELY        0.0804\n",
       "SOMETIMES     0.1256\n",
       "FREQUENTLY    0.2582\n",
       "ALWAYS        0.4804\n",
       "dtype: float64"
      ]
     },
     "execution_count": 31,
     "metadata": {},
     "output_type": "execute_result"
    }
   ],
   "source": [
    "mask_use_df.head().mean()[['NEVER','RARELY','SOMETIMES','FREQUENTLY','ALWAYS']]"
   ]
  },
  {
   "cell_type": "code",
   "execution_count": 32,
   "id": "4d0a95b4-670f-45ae-85dc-088c387270e6",
   "metadata": {},
   "outputs": [
    {
     "data": {
      "text/html": [
       "<div>\n",
       "<style scoped>\n",
       "    .dataframe tbody tr th:only-of-type {\n",
       "        vertical-align: middle;\n",
       "    }\n",
       "\n",
       "    .dataframe tbody tr th {\n",
       "        vertical-align: top;\n",
       "    }\n",
       "\n",
       "    .dataframe thead th {\n",
       "        text-align: right;\n",
       "    }\n",
       "</style>\n",
       "<table border=\"1\" class=\"dataframe\">\n",
       "  <thead>\n",
       "    <tr style=\"text-align: right;\">\n",
       "      <th></th>\n",
       "      <th>sumsquare_error</th>\n",
       "      <th>aic</th>\n",
       "      <th>bic</th>\n",
       "      <th>kl_div</th>\n",
       "    </tr>\n",
       "  </thead>\n",
       "  <tbody>\n",
       "    <tr>\n",
       "      <th>lognorm</th>\n",
       "      <td>8.802051</td>\n",
       "      <td>35.394132</td>\n",
       "      <td>-18443.355752</td>\n",
       "      <td>inf</td>\n",
       "    </tr>\n",
       "    <tr>\n",
       "      <th>norm</th>\n",
       "      <td>11.038187</td>\n",
       "      <td>26.977538</td>\n",
       "      <td>-17740.134827</td>\n",
       "      <td>inf</td>\n",
       "    </tr>\n",
       "  </tbody>\n",
       "</table>\n",
       "</div>"
      ],
      "text/plain": [
       "         sumsquare_error        aic           bic  kl_div\n",
       "lognorm         8.802051  35.394132 -18443.355752     inf\n",
       "norm           11.038187  26.977538 -17740.134827     inf"
      ]
     },
     "execution_count": 32,
     "metadata": {},
     "output_type": "execute_result"
    },
    {
     "data": {
      "image/png": "[encoded data removed]",
      "text/plain": [
       "<Figure size 432x288 with 1 Axes>"
      ]
     },
     "metadata": {
      "needs_background": "light"
     },
     "output_type": "display_data"
    }
   ],
   "source": [
    "f = Fitter(mask_use_df.ALWAYS,\n",
    "           distributions=['lognorm',\n",
    "                          \"norm\"])\n",
    "f.fit()\n",
    "f.summary()"
   ]
  },
  {
   "cell_type": "code",
   "execution_count": 33,
   "id": "817d987c-9ca3-4422-9440-91cd830b115b",
   "metadata": {},
   "outputs": [
    {
     "data": {
      "text/plain": [
       "((array([-3.51414897, -3.271219  , -3.13692245, ...,  3.13692245,\n",
       "          3.271219  ,  3.51414897]),\n",
       "  array([0.115, 0.129, 0.139, ..., 0.88 , 0.884, 0.889])),\n",
       " (0.15142981112884693, 0.508093570973902, 0.994153957101986))"
      ]
     },
     "execution_count": 33,
     "metadata": {},
     "output_type": "execute_result"
    },
    {
     "data": {
      "image/png": "[encoded data removed]",
      "text/plain": [
       "<Figure size 432x288 with 1 Axes>"
      ]
     },
     "metadata": {
      "needs_background": "light"
     },
     "output_type": "display_data"
    }
   ],
   "source": [
    "stats.probplot(mask_use_df.ALWAYS, plot=plt)"
   ]
  },
  {
   "cell_type": "code",
   "execution_count": 34,
   "id": "c62546ea-f840-45fa-b913-4045443570bc",
   "metadata": {},
   "outputs": [
    {
     "name": "stdout",
     "output_type": "stream",
     "text": [
      "2.0803311246336204e-31\n"
     ]
    }
   ],
   "source": [
    "k2, p_val = stats.normaltest(mask_use_df.ALWAYS)\n",
    "print(p_val)"
   ]
  },
  {
   "cell_type": "markdown",
   "id": "83e7a752-7991-41ba-a8af-9a301a170d14",
   "metadata": {},
   "source": [
    "### Correlation between mask use and cases by state"
   ]
  },
  {
   "cell_type": "code",
   "execution_count": 35,
   "id": "0ccbd0a7-5d9b-4fbf-9360-51749d718a5d",
   "metadata": {},
   "outputs": [
    {
     "data": {
      "text/html": [
       "<div>\n",
       "<style scoped>\n",
       "    .dataframe tbody tr th:only-of-type {\n",
       "        vertical-align: middle;\n",
       "    }\n",
       "\n",
       "    .dataframe tbody tr th {\n",
       "        vertical-align: top;\n",
       "    }\n",
       "\n",
       "    .dataframe thead th {\n",
       "        text-align: right;\n",
       "    }\n",
       "</style>\n",
       "<table border=\"1\" class=\"dataframe\">\n",
       "  <thead>\n",
       "    <tr style=\"text-align: right;\">\n",
       "      <th></th>\n",
       "      <th>NEVER</th>\n",
       "      <th>RARELY</th>\n",
       "      <th>SOMETIMES</th>\n",
       "      <th>FREQUENTLY</th>\n",
       "      <th>ALWAYS</th>\n",
       "      <th>deaths</th>\n",
       "      <th>cases</th>\n",
       "      <th>relative_cases</th>\n",
       "      <th>relative_deaths</th>\n",
       "      <th>density</th>\n",
       "    </tr>\n",
       "    <tr>\n",
       "      <th>state</th>\n",
       "      <th></th>\n",
       "      <th></th>\n",
       "      <th></th>\n",
       "      <th></th>\n",
       "      <th></th>\n",
       "      <th></th>\n",
       "      <th></th>\n",
       "      <th></th>\n",
       "      <th></th>\n",
       "      <th></th>\n",
       "    </tr>\n",
       "  </thead>\n",
       "  <tbody>\n",
       "    <tr>\n",
       "      <th>Alabama</th>\n",
       "      <td>0.081567</td>\n",
       "      <td>0.081090</td>\n",
       "      <td>0.146612</td>\n",
       "      <td>0.215343</td>\n",
       "      <td>0.475313</td>\n",
       "      <td>2108</td>\n",
       "      <td>224548</td>\n",
       "      <td>0.045509</td>\n",
       "      <td>0.000427</td>\n",
       "      <td>97.4271</td>\n",
       "    </tr>\n",
       "    <tr>\n",
       "      <th>Alaska</th>\n",
       "      <td>0.055138</td>\n",
       "      <td>0.063172</td>\n",
       "      <td>0.089862</td>\n",
       "      <td>0.333103</td>\n",
       "      <td>0.458586</td>\n",
       "      <td>103</td>\n",
       "      <td>31882</td>\n",
       "      <td>0.044014</td>\n",
       "      <td>0.000142</td>\n",
       "      <td>1.2694</td>\n",
       "    </tr>\n",
       "    <tr>\n",
       "      <th>Arizona</th>\n",
       "      <td>0.049667</td>\n",
       "      <td>0.053200</td>\n",
       "      <td>0.094667</td>\n",
       "      <td>0.147333</td>\n",
       "      <td>0.655000</td>\n",
       "      <td>1647</td>\n",
       "      <td>175410</td>\n",
       "      <td>0.023325</td>\n",
       "      <td>0.000219</td>\n",
       "      <td>66.2016</td>\n",
       "    </tr>\n",
       "    <tr>\n",
       "      <th>Arkansas</th>\n",
       "      <td>0.090920</td>\n",
       "      <td>0.087253</td>\n",
       "      <td>0.138360</td>\n",
       "      <td>0.220627</td>\n",
       "      <td>0.462867</td>\n",
       "      <td>1590</td>\n",
       "      <td>136768</td>\n",
       "      <td>0.045079</td>\n",
       "      <td>0.000524</td>\n",
       "      <td>58.3059</td>\n",
       "    </tr>\n",
       "    <tr>\n",
       "      <th>California</th>\n",
       "      <td>0.032310</td>\n",
       "      <td>0.030724</td>\n",
       "      <td>0.063690</td>\n",
       "      <td>0.158603</td>\n",
       "      <td>0.714638</td>\n",
       "      <td>4958</td>\n",
       "      <td>803289</td>\n",
       "      <td>0.020278</td>\n",
       "      <td>0.000125</td>\n",
       "      <td>254.2929</td>\n",
       "    </tr>\n",
       "  </tbody>\n",
       "</table>\n",
       "</div>"
      ],
      "text/plain": [
       "               NEVER    RARELY  SOMETIMES  FREQUENTLY    ALWAYS  deaths  \\\n",
       "state                                                                     \n",
       "Alabama     0.081567  0.081090   0.146612    0.215343  0.475313    2108   \n",
       "Alaska      0.055138  0.063172   0.089862    0.333103  0.458586     103   \n",
       "Arizona     0.049667  0.053200   0.094667    0.147333  0.655000    1647   \n",
       "Arkansas    0.090920  0.087253   0.138360    0.220627  0.462867    1590   \n",
       "California  0.032310  0.030724   0.063690    0.158603  0.714638    4958   \n",
       "\n",
       "             cases  relative_cases  relative_deaths   density  \n",
       "state                                                          \n",
       "Alabama     224548        0.045509         0.000427   97.4271  \n",
       "Alaska       31882        0.044014         0.000142    1.2694  \n",
       "Arizona     175410        0.023325         0.000219   66.2016  \n",
       "Arkansas    136768        0.045079         0.000524   58.3059  \n",
       "California  803289        0.020278         0.000125  254.2929  "
      ]
     },
     "execution_count": 35,
     "metadata": {},
     "output_type": "execute_result"
    }
   ],
   "source": [
    "mask_use_df_states = mask_use_df.groupby('state').mean()\n",
    "mask_use_df_states = mask_use_df_states.join(total_by_state[['deaths','cases','relative_cases','relative_deaths','density']])\n",
    "mask_use_df_states.head()"
   ]
  },
  {
   "cell_type": "code",
   "execution_count": 36,
   "id": "d89c5410-8024-4205-940f-9d4d6f560866",
   "metadata": {},
   "outputs": [
    {
     "data": {
      "image/png": "[encoded data removed]",
      "text/plain": [
       "<Figure size 864x432 with 2 Axes>"
      ]
     },
     "metadata": {
      "needs_background": "light"
     },
     "output_type": "display_data"
    }
   ],
   "source": [
    "corr = mask_use_df_states.drop(['RARELY','SOMETIMES','FREQUENTLY'], axis=1).corr()\n",
    "corr = corr.where(np.tril(np.ones(corr.shape)).astype(np.bool))\n",
    "\n",
    "\n",
    "fig, ax = plt.subplots(figsize=(12, 6))\n",
    "ax.set(title=\"Correlation HeatMap\\nMask Use and Covid metrics\")\n",
    "hmap=sns.heatmap(corr, ax=ax, cmap=\"Blues\", annot=True)"
   ]
  },
  {
   "cell_type": "markdown",
   "id": "f799a4f4-4dd3-4712-8078-ea6ec04602c8",
   "metadata": {},
   "source": [
    "## Hypothesis Test\n",
    "\n",
    "Two Sample test for Means"
   ]
  },
  {
   "cell_type": "code",
   "execution_count": 37,
   "id": "b7244ea1-57d3-443d-a8e6-94431f7918e7",
   "metadata": {},
   "outputs": [],
   "source": [
    "significance_level = 0.05 "
   ]
  },
  {
   "cell_type": "code",
   "execution_count": 42,
   "id": "980e944a-bd2b-49b4-99a0-12353aab6906",
   "metadata": {},
   "outputs": [],
   "source": [
    "def check_requirements(sample1: np.array, sample2: np.array, population_array: np.array) -> bool:\n",
    "    if len(sample1) > 30 and len(sample2) > 30:\n",
    "        return True\n",
    "    k2, p_val = stats.normaltest(population)\n",
    "    print(f'Population normality test for column {col}, p-value: {p_val}')\n",
    "    if p_val < significance_level:\n",
    "        return True\n",
    "    return False\n",
    "    \n",
    "def two_samples_test(state1: str, state2: str, col: str, alternative: str):\n",
    "    sample1 = mask_use_df[mask_use_df.state == state1][col]\n",
    "    sample2 = mask_use_df[mask_use_df.state == state2][col]\n",
    "    \n",
    "    print(f'{state1} number of counties: {len(sample1):,}')\n",
    "    print(f'{state1} mask use = {col} mean: {sample1.mean():,}')\n",
    "    print(f'{state2} number of counties: {len(sample2):,}')\n",
    "    print(f'{state2} mask use = {col} mean: {sample2.mean():,}') \n",
    "\n",
    "    if check_requirements(sample1, sample2, mask_use_df[col]):\n",
    "        t_stat, p_val = stats.ttest_ind(sample1, sample2, alternative=alternative)\n",
    "         \n",
    "        not_reject_msg = f\"The data do not provide enough statistical evidence to say that, the mean of people saying they wear a mas {col} by county in {state1} is {alternative if alternative != 'two-sided' else 'different'} than in {state2}, with significance level of {significance_level:%}.\"\n",
    "        reject_msg = f\"The data provide enough statistical evidence to say that, the mean use of mask by county in {state1} is {alternative if alternative != 'two-sided' else 'different'} than in {state2}, with significance level of {significance_level:.0%}.\"\n",
    "        print(f'T-stat: {t_stat}')\n",
    "        print(f'P-value: {p_val}')\n",
    "        if p_val < significance_level:\n",
    "            print(reject_msg)\n",
    "        else:\n",
    "            print(not_reject_msg)"
   ]
  },
  {
   "cell_type": "code",
   "execution_count": 43,
   "id": "97cc7447-dc9f-499c-b037-8abe27695948",
   "metadata": {},
   "outputs": [
    {
     "name": "stdout",
     "output_type": "stream",
     "text": [
      "Florida number of counties: 67\n",
      "Florida mask use = ALWAYS mean: 0.5825522388059703\n",
      "New York number of counties: 62\n",
      "New York mask use = ALWAYS mean: 0.7699354838709678\n",
      "T-stat: -11.015198396868174\n",
      "P-value: 1.610259295256832e-20\n",
      "The data provide enough statistical evidence to say that, the mean use of mask by county in Florida is less than in New York, with significance level of 5%.\n"
     ]
    }
   ],
   "source": [
    "two_samples_test('Florida', 'New York', 'ALWAYS', 'less')"
   ]
  },
  {
   "cell_type": "code",
   "execution_count": 44,
   "id": "99a58ce5-b111-424b-924a-75aa336c9c5e",
   "metadata": {},
   "outputs": [
    {
     "name": "stdout",
     "output_type": "stream",
     "text": [
      "New York number of counties: 62\n",
      "New York mask use = NEVER mean: 0.022838709677419345\n",
      "Florida number of counties: 67\n",
      "Florida mask use = NEVER mean: 0.05525373134328358\n",
      "T-stat: -6.2199383862226485\n",
      "P-value: 3.312792987060784e-09\n",
      "The data provide enough statistical evidence to say that, the mean use of mask by county in New York is less than in Florida, with significance level of 5%.\n"
     ]
    }
   ],
   "source": [
    "two_samples_test('New York', 'Florida', 'NEVER', 'less')"
   ]
  },
  {
   "cell_type": "code",
   "execution_count": null,
   "id": "59ff5227-442c-46a9-8cc8-91b3a1772e73",
   "metadata": {},
   "outputs": [],
   "source": []
  }
 ],
 "metadata": {
  "kernelspec": {
   "display_name": "Python 3",
   "language": "python",
   "name": "python3"
  },
  "language_info": {
   "codemirror_mode": {
    "name": "ipython",
    "version": 3
   },
   "file_extension": ".py",
   "mimetype": "text/x-python",
   "name": "python",
   "nbconvert_exporter": "python",
   "pygments_lexer": "ipython3",
   "version": "3.8.8"
  }
 },
 "nbformat": 4,
 "nbformat_minor": 5
}
