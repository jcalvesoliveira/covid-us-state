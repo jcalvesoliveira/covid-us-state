{
 "cells": [
  {
   "cell_type": "markdown",
   "id": "9a85379c-6f5d-4c68-adbf-8011085d7d00",
   "metadata": {},
   "source": [
    "# Covid-19 Fourth Wave by US state"
   ]
  },
  {
   "cell_type": "code",
   "execution_count": 121,
   "id": "221bb22f-6caa-4125-abe5-bfc9986eede7",
   "metadata": {},
   "outputs": [],
   "source": [
    "import pandas as pd\n",
    "from datetime import timedelta\n",
    "from statsmodels.stats.proportion import proportions_ztest\n",
    "\n",
    "import matplotlib\n",
    "from matplotlib.dates import DateFormatter\n",
    "import matplotlib.pyplot as plt\n",
    "import seaborn as sns"
   ]
  },
  {
   "cell_type": "code",
   "execution_count": 60,
   "id": "8260ac64-5248-4986-a96f-c00a5c75a05d",
   "metadata": {},
   "outputs": [],
   "source": [
    "covid_df = pd.read_csv('../data/external/us-states.csv')\n",
    "covid_df.columns = ['date', 'state', 'fips', 'cumulative_cases', 'cumulative_deaths']\n",
    "covid_df.date = pd.to_datetime(covid_df.date)\n",
    "covid_df = covid_df.sort_values(by=['state','date']).reset_index(drop=True)\n",
    "covid_df['year'] = covid_df.date.dt.year\n",
    "covid_df['month'] = covid_df.date.dt.month\n",
    "covid_df['year_month'] = covid_df.date.dt.strftime('%Y-%m')"
   ]
  },
  {
   "cell_type": "markdown",
   "id": "90ed6e5f-5a34-42bb-8e67-eb8ecda027cd",
   "metadata": {},
   "source": [
    "## Data cleaning"
   ]
  },
  {
   "cell_type": "markdown",
   "id": "0169111c-d3a8-4b3e-89fe-b3a5f7c3c336",
   "metadata": {},
   "source": [
    "* set Florida negative date to 0"
   ]
  },
  {
   "cell_type": "code",
   "execution_count": 61,
   "id": "300295f1-6255-4c49-928f-6744251559f9",
   "metadata": {},
   "outputs": [
    {
     "name": "stdout",
     "output_type": "stream",
     "text": [
      "Cumulative cases on 2021-06-03: 2329859\n",
      "Cumulative cases on 2021-06-04: 2289332\n",
      "Diff: -40527\n"
     ]
    }
   ],
   "source": [
    "previous_day = covid_df[(covid_df.date == '2021-06-03') & (covid_df.state == 'Florida')].cumulative_cases.iloc[0]\n",
    "next_day = covid_df[(covid_df.date == '2021-06-04') & (covid_df.state == 'Florida')].cumulative_cases.iloc[0]\n",
    "print(f\"Cumulative cases on 2021-06-03: {previous_day}\")\n",
    "print(f\"Cumulative cases on 2021-06-04: {next_day}\")\n",
    "print(f\"Diff: {next_day - previous_day}\")"
   ]
  },
  {
   "cell_type": "markdown",
   "id": "ceedbb37-018b-4d87-b729-4e256ee34846",
   "metadata": {},
   "source": [
    "Remove small islands"
   ]
  },
  {
   "cell_type": "code",
   "execution_count": 62,
   "id": "be0a5e0d-77d3-4994-9ac1-86fe7b17083b",
   "metadata": {},
   "outputs": [],
   "source": [
    "islands = {'Guam', 'Northern Mariana Islands', 'Virgin Islands'}\n",
    "covid_df = covid_df[~covid_df.state.isin(islands)].reset_index(drop=True)"
   ]
  },
  {
   "cell_type": "code",
   "execution_count": 63,
   "id": "820a8dc2-c7c8-4b05-a1a9-77a571bc6ef4",
   "metadata": {},
   "outputs": [
    {
     "data": {
      "text/plain": [
       "(29598, 8)"
      ]
     },
     "execution_count": 63,
     "metadata": {},
     "output_type": "execute_result"
    }
   ],
   "source": [
    "covid_df.shape"
   ]
  },
  {
   "cell_type": "code",
   "execution_count": 64,
   "id": "06fc86f0-7271-419d-8adc-54b20c3a5061",
   "metadata": {},
   "outputs": [
    {
     "data": {
      "text/html": [
       "<div>\n",
       "<style scoped>\n",
       "    .dataframe tbody tr th:only-of-type {\n",
       "        vertical-align: middle;\n",
       "    }\n",
       "\n",
       "    .dataframe tbody tr th {\n",
       "        vertical-align: top;\n",
       "    }\n",
       "\n",
       "    .dataframe thead th {\n",
       "        text-align: right;\n",
       "    }\n",
       "</style>\n",
       "<table border=\"1\" class=\"dataframe\">\n",
       "  <thead>\n",
       "    <tr style=\"text-align: right;\">\n",
       "      <th></th>\n",
       "      <th>date</th>\n",
       "      <th>state</th>\n",
       "      <th>fips</th>\n",
       "      <th>cumulative_cases</th>\n",
       "      <th>cumulative_deaths</th>\n",
       "      <th>year</th>\n",
       "      <th>month</th>\n",
       "      <th>year_month</th>\n",
       "    </tr>\n",
       "  </thead>\n",
       "  <tbody>\n",
       "    <tr>\n",
       "      <th>0</th>\n",
       "      <td>2020-03-13</td>\n",
       "      <td>Alabama</td>\n",
       "      <td>1</td>\n",
       "      <td>6</td>\n",
       "      <td>0</td>\n",
       "      <td>2020</td>\n",
       "      <td>3</td>\n",
       "      <td>2020-03</td>\n",
       "    </tr>\n",
       "    <tr>\n",
       "      <th>1</th>\n",
       "      <td>2020-03-14</td>\n",
       "      <td>Alabama</td>\n",
       "      <td>1</td>\n",
       "      <td>12</td>\n",
       "      <td>0</td>\n",
       "      <td>2020</td>\n",
       "      <td>3</td>\n",
       "      <td>2020-03</td>\n",
       "    </tr>\n",
       "    <tr>\n",
       "      <th>2</th>\n",
       "      <td>2020-03-15</td>\n",
       "      <td>Alabama</td>\n",
       "      <td>1</td>\n",
       "      <td>23</td>\n",
       "      <td>0</td>\n",
       "      <td>2020</td>\n",
       "      <td>3</td>\n",
       "      <td>2020-03</td>\n",
       "    </tr>\n",
       "    <tr>\n",
       "      <th>3</th>\n",
       "      <td>2020-03-16</td>\n",
       "      <td>Alabama</td>\n",
       "      <td>1</td>\n",
       "      <td>29</td>\n",
       "      <td>0</td>\n",
       "      <td>2020</td>\n",
       "      <td>3</td>\n",
       "      <td>2020-03</td>\n",
       "    </tr>\n",
       "    <tr>\n",
       "      <th>4</th>\n",
       "      <td>2020-03-17</td>\n",
       "      <td>Alabama</td>\n",
       "      <td>1</td>\n",
       "      <td>39</td>\n",
       "      <td>0</td>\n",
       "      <td>2020</td>\n",
       "      <td>3</td>\n",
       "      <td>2020-03</td>\n",
       "    </tr>\n",
       "  </tbody>\n",
       "</table>\n",
       "</div>"
      ],
      "text/plain": [
       "        date    state  fips  cumulative_cases  cumulative_deaths  year  month  \\\n",
       "0 2020-03-13  Alabama     1                 6                  0  2020      3   \n",
       "1 2020-03-14  Alabama     1                12                  0  2020      3   \n",
       "2 2020-03-15  Alabama     1                23                  0  2020      3   \n",
       "3 2020-03-16  Alabama     1                29                  0  2020      3   \n",
       "4 2020-03-17  Alabama     1                39                  0  2020      3   \n",
       "\n",
       "  year_month  \n",
       "0    2020-03  \n",
       "1    2020-03  \n",
       "2    2020-03  \n",
       "3    2020-03  \n",
       "4    2020-03  "
      ]
     },
     "execution_count": 64,
     "metadata": {},
     "output_type": "execute_result"
    }
   ],
   "source": [
    "covid_df.head()"
   ]
  },
  {
   "cell_type": "code",
   "execution_count": 65,
   "id": "43afc545-98b1-4d62-a011-9608abd97c7c",
   "metadata": {},
   "outputs": [],
   "source": [
    "deaths = []\n",
    "cases = []\n",
    "for i in range(len(covid_df)):\n",
    "    state = covid_df.state[i]\n",
    "    previous_day = covid_df.date[i] - timedelta(days=1)\n",
    "    previows_row = covid_df[(covid_df.state == state) & (covid_df.date == previous_day)]\n",
    "    if len(previows_row):\n",
    "        deaths.append(max(0, covid_df.cumulative_deaths[i] - previows_row.cumulative_deaths.iloc[0]))\n",
    "        cases.append(max(0, covid_df.cumulative_cases[i] - previows_row.cumulative_cases.iloc[0]))\n",
    "    else:\n",
    "        deaths.append(covid_df.cumulative_deaths[i])\n",
    "        cases.append(covid_df.cumulative_cases[i])\n",
    "\n",
    "covid_df['deaths'] = deaths \n",
    "covid_df['cases'] = cases"
   ]
  },
  {
   "cell_type": "code",
   "execution_count": 66,
   "id": "db1edb9a-3210-4d1c-a3e9-103052479fb4",
   "metadata": {},
   "outputs": [],
   "source": [
    "rolling_deaths = []\n",
    "rolling_cases = []\n",
    "\n",
    "for state in sorted(covid_df.state.unique()):\n",
    "    state_filtered = covid_df[covid_df.state == state].reset_index()\n",
    "    state_rolling_deaths = state_filtered['deaths'].rolling(7).mean()\n",
    "    state_rolling_cases = state_filtered['cases'].rolling(7).mean()\n",
    "    rolling_deaths += state_rolling_deaths.to_list()\n",
    "    rolling_cases += state_rolling_cases.to_list()\n",
    "    \n",
    "covid_df['7day_avg_deaths'] = rolling_deaths\n",
    "covid_df['7day_avg_cases'] = rolling_cases"
   ]
  },
  {
   "cell_type": "code",
   "execution_count": 67,
   "id": "4a7494c4-1615-4dc7-b7d0-026442142e41",
   "metadata": {},
   "outputs": [
    {
     "data": {
      "text/html": [
       "<div>\n",
       "<style scoped>\n",
       "    .dataframe tbody tr th:only-of-type {\n",
       "        vertical-align: middle;\n",
       "    }\n",
       "\n",
       "    .dataframe tbody tr th {\n",
       "        vertical-align: top;\n",
       "    }\n",
       "\n",
       "    .dataframe thead th {\n",
       "        text-align: right;\n",
       "    }\n",
       "</style>\n",
       "<table border=\"1\" class=\"dataframe\">\n",
       "  <thead>\n",
       "    <tr style=\"text-align: right;\">\n",
       "      <th></th>\n",
       "      <th>date</th>\n",
       "      <th>state</th>\n",
       "      <th>fips</th>\n",
       "      <th>cumulative_cases</th>\n",
       "      <th>cumulative_deaths</th>\n",
       "      <th>year</th>\n",
       "      <th>month</th>\n",
       "      <th>year_month</th>\n",
       "      <th>deaths</th>\n",
       "      <th>cases</th>\n",
       "      <th>7day_avg_deaths</th>\n",
       "      <th>7day_avg_cases</th>\n",
       "    </tr>\n",
       "  </thead>\n",
       "  <tbody>\n",
       "    <tr>\n",
       "      <th>29593</th>\n",
       "      <td>2021-09-17</td>\n",
       "      <td>Wyoming</td>\n",
       "      <td>56</td>\n",
       "      <td>83958</td>\n",
       "      <td>918</td>\n",
       "      <td>2021</td>\n",
       "      <td>9</td>\n",
       "      <td>2021-09</td>\n",
       "      <td>0</td>\n",
       "      <td>315</td>\n",
       "      <td>5.571429</td>\n",
       "      <td>473.571429</td>\n",
       "    </tr>\n",
       "    <tr>\n",
       "      <th>29594</th>\n",
       "      <td>2021-09-18</td>\n",
       "      <td>Wyoming</td>\n",
       "      <td>56</td>\n",
       "      <td>83958</td>\n",
       "      <td>918</td>\n",
       "      <td>2021</td>\n",
       "      <td>9</td>\n",
       "      <td>2021-09</td>\n",
       "      <td>0</td>\n",
       "      <td>0</td>\n",
       "      <td>5.571429</td>\n",
       "      <td>473.571429</td>\n",
       "    </tr>\n",
       "    <tr>\n",
       "      <th>29595</th>\n",
       "      <td>2021-09-19</td>\n",
       "      <td>Wyoming</td>\n",
       "      <td>56</td>\n",
       "      <td>83958</td>\n",
       "      <td>918</td>\n",
       "      <td>2021</td>\n",
       "      <td>9</td>\n",
       "      <td>2021-09</td>\n",
       "      <td>0</td>\n",
       "      <td>0</td>\n",
       "      <td>5.571429</td>\n",
       "      <td>473.571429</td>\n",
       "    </tr>\n",
       "    <tr>\n",
       "      <th>29596</th>\n",
       "      <td>2021-09-20</td>\n",
       "      <td>Wyoming</td>\n",
       "      <td>56</td>\n",
       "      <td>85499</td>\n",
       "      <td>918</td>\n",
       "      <td>2021</td>\n",
       "      <td>9</td>\n",
       "      <td>2021-09</td>\n",
       "      <td>0</td>\n",
       "      <td>1541</td>\n",
       "      <td>5.571429</td>\n",
       "      <td>524.857143</td>\n",
       "    </tr>\n",
       "    <tr>\n",
       "      <th>29597</th>\n",
       "      <td>2021-09-21</td>\n",
       "      <td>Wyoming</td>\n",
       "      <td>56</td>\n",
       "      <td>86052</td>\n",
       "      <td>955</td>\n",
       "      <td>2021</td>\n",
       "      <td>9</td>\n",
       "      <td>2021-09</td>\n",
       "      <td>37</td>\n",
       "      <td>553</td>\n",
       "      <td>5.285714</td>\n",
       "      <td>512.714286</td>\n",
       "    </tr>\n",
       "  </tbody>\n",
       "</table>\n",
       "</div>"
      ],
      "text/plain": [
       "            date    state  fips  cumulative_cases  cumulative_deaths  year  \\\n",
       "29593 2021-09-17  Wyoming    56             83958                918  2021   \n",
       "29594 2021-09-18  Wyoming    56             83958                918  2021   \n",
       "29595 2021-09-19  Wyoming    56             83958                918  2021   \n",
       "29596 2021-09-20  Wyoming    56             85499                918  2021   \n",
       "29597 2021-09-21  Wyoming    56             86052                955  2021   \n",
       "\n",
       "       month year_month  deaths  cases  7day_avg_deaths  7day_avg_cases  \n",
       "29593      9    2021-09       0    315         5.571429      473.571429  \n",
       "29594      9    2021-09       0      0         5.571429      473.571429  \n",
       "29595      9    2021-09       0      0         5.571429      473.571429  \n",
       "29596      9    2021-09       0   1541         5.571429      524.857143  \n",
       "29597      9    2021-09      37    553         5.285714      512.714286  "
      ]
     },
     "execution_count": 67,
     "metadata": {},
     "output_type": "execute_result"
    }
   ],
   "source": [
    "covid_df.tail()"
   ]
  },
  {
   "cell_type": "code",
   "execution_count": 68,
   "id": "9353f3b1-ff73-4577-a668-e460fe9a9c29",
   "metadata": {},
   "outputs": [
    {
     "data": {
      "text/plain": [
       "cases     42450775\n",
       "deaths      681378\n",
       "dtype: int64"
      ]
     },
     "execution_count": 68,
     "metadata": {},
     "output_type": "execute_result"
    }
   ],
   "source": [
    "covid_df[['cases','deaths']].sum()"
   ]
  },
  {
   "cell_type": "code",
   "execution_count": 69,
   "id": "6deb86c3-2173-4ea7-aeda-45ce65007fed",
   "metadata": {},
   "outputs": [
    {
     "data": {
      "text/html": [
       "<div>\n",
       "<style scoped>\n",
       "    .dataframe tbody tr th:only-of-type {\n",
       "        vertical-align: middle;\n",
       "    }\n",
       "\n",
       "    .dataframe tbody tr th {\n",
       "        vertical-align: top;\n",
       "    }\n",
       "\n",
       "    .dataframe thead th {\n",
       "        text-align: right;\n",
       "    }\n",
       "</style>\n",
       "<table border=\"1\" class=\"dataframe\">\n",
       "  <thead>\n",
       "    <tr style=\"text-align: right;\">\n",
       "      <th></th>\n",
       "      <th>cases</th>\n",
       "      <th>deaths</th>\n",
       "    </tr>\n",
       "  </thead>\n",
       "  <tbody>\n",
       "    <tr>\n",
       "      <th>count</th>\n",
       "      <td>29598.000000</td>\n",
       "      <td>29598.000000</td>\n",
       "    </tr>\n",
       "    <tr>\n",
       "      <th>mean</th>\n",
       "      <td>1434.244712</td>\n",
       "      <td>23.021083</td>\n",
       "    </tr>\n",
       "    <tr>\n",
       "      <th>std</th>\n",
       "      <td>3112.160905</td>\n",
       "      <td>60.499367</td>\n",
       "    </tr>\n",
       "    <tr>\n",
       "      <th>min</th>\n",
       "      <td>0.000000</td>\n",
       "      <td>0.000000</td>\n",
       "    </tr>\n",
       "    <tr>\n",
       "      <th>25%</th>\n",
       "      <td>108.000000</td>\n",
       "      <td>1.000000</td>\n",
       "    </tr>\n",
       "    <tr>\n",
       "      <th>50%</th>\n",
       "      <td>468.500000</td>\n",
       "      <td>6.000000</td>\n",
       "    </tr>\n",
       "    <tr>\n",
       "      <th>75%</th>\n",
       "      <td>1417.000000</td>\n",
       "      <td>22.000000</td>\n",
       "    </tr>\n",
       "    <tr>\n",
       "      <th>max</th>\n",
       "      <td>64986.000000</td>\n",
       "      <td>2559.000000</td>\n",
       "    </tr>\n",
       "  </tbody>\n",
       "</table>\n",
       "</div>"
      ],
      "text/plain": [
       "              cases        deaths\n",
       "count  29598.000000  29598.000000\n",
       "mean    1434.244712     23.021083\n",
       "std     3112.160905     60.499367\n",
       "min        0.000000      0.000000\n",
       "25%      108.000000      1.000000\n",
       "50%      468.500000      6.000000\n",
       "75%     1417.000000     22.000000\n",
       "max    64986.000000   2559.000000"
      ]
     },
     "execution_count": 69,
     "metadata": {},
     "output_type": "execute_result"
    }
   ],
   "source": [
    "covid_df[['cases','deaths']].describe()"
   ]
  },
  {
   "cell_type": "code",
   "execution_count": 70,
   "id": "9ac64c8c-eed7-4d7f-8566-8d55f6c634d3",
   "metadata": {},
   "outputs": [],
   "source": [
    "covid_df.to_csv('../data/processed/us-states.csv')"
   ]
  },
  {
   "cell_type": "markdown",
   "id": "4616591b-80fa-4e97-8f00-6f03c76a6f4e",
   "metadata": {},
   "source": [
    "## USA metrics"
   ]
  },
  {
   "cell_type": "code",
   "execution_count": 71,
   "id": "52760e2d-cf43-4258-ae1d-796d04b81374",
   "metadata": {},
   "outputs": [],
   "source": [
    "us_covid = covid_df[['deaths','cases','date']].groupby([\"date\"]).sum().reset_index()\n",
    "us_covid['year_month'] = us_covid.date.dt.strftime('%Y-%m')\n",
    "us_covid['day_avg_deaths'] = us_covid['deaths'].rolling(7).mean()\n",
    "us_covid['day_avg_cases'] = us_covid['cases'].rolling(7).mean()"
   ]
  },
  {
   "cell_type": "code",
   "execution_count": 72,
   "id": "c4af4879-40d1-4b1c-89b5-8d8556e98c93",
   "metadata": {},
   "outputs": [
    {
     "data": {
      "text/html": [
       "<div>\n",
       "<style scoped>\n",
       "    .dataframe tbody tr th:only-of-type {\n",
       "        vertical-align: middle;\n",
       "    }\n",
       "\n",
       "    .dataframe tbody tr th {\n",
       "        vertical-align: top;\n",
       "    }\n",
       "\n",
       "    .dataframe thead th {\n",
       "        text-align: right;\n",
       "    }\n",
       "</style>\n",
       "<table border=\"1\" class=\"dataframe\">\n",
       "  <thead>\n",
       "    <tr style=\"text-align: right;\">\n",
       "      <th></th>\n",
       "      <th>cases</th>\n",
       "      <th>deaths</th>\n",
       "    </tr>\n",
       "  </thead>\n",
       "  <tbody>\n",
       "    <tr>\n",
       "      <th>count</th>\n",
       "      <td>610.000000</td>\n",
       "      <td>610.000000</td>\n",
       "    </tr>\n",
       "    <tr>\n",
       "      <th>mean</th>\n",
       "      <td>69591.434426</td>\n",
       "      <td>1117.013115</td>\n",
       "    </tr>\n",
       "    <tr>\n",
       "      <th>std</th>\n",
       "      <td>67088.313900</td>\n",
       "      <td>988.024301</td>\n",
       "    </tr>\n",
       "    <tr>\n",
       "      <th>min</th>\n",
       "      <td>0.000000</td>\n",
       "      <td>0.000000</td>\n",
       "    </tr>\n",
       "    <tr>\n",
       "      <th>25%</th>\n",
       "      <td>23732.750000</td>\n",
       "      <td>409.750000</td>\n",
       "    </tr>\n",
       "    <tr>\n",
       "      <th>50%</th>\n",
       "      <td>47789.000000</td>\n",
       "      <td>875.500000</td>\n",
       "    </tr>\n",
       "    <tr>\n",
       "      <th>75%</th>\n",
       "      <td>81768.750000</td>\n",
       "      <td>1484.500000</td>\n",
       "    </tr>\n",
       "    <tr>\n",
       "      <th>max</th>\n",
       "      <td>300827.000000</td>\n",
       "      <td>5463.000000</td>\n",
       "    </tr>\n",
       "  </tbody>\n",
       "</table>\n",
       "</div>"
      ],
      "text/plain": [
       "               cases       deaths\n",
       "count     610.000000   610.000000\n",
       "mean    69591.434426  1117.013115\n",
       "std     67088.313900   988.024301\n",
       "min         0.000000     0.000000\n",
       "25%     23732.750000   409.750000\n",
       "50%     47789.000000   875.500000\n",
       "75%     81768.750000  1484.500000\n",
       "max    300827.000000  5463.000000"
      ]
     },
     "execution_count": 72,
     "metadata": {},
     "output_type": "execute_result"
    }
   ],
   "source": [
    "us_covid[['cases','deaths']].describe()"
   ]
  },
  {
   "cell_type": "code",
   "execution_count": 73,
   "id": "2bd5d5aa-ff10-4676-86fd-a04078ea77b9",
   "metadata": {},
   "outputs": [
    {
     "data": {
      "image/png": "[encoded data removed]",
      "text/plain": [
       "<Figure size 864x432 with 1 Axes>"
      ]
     },
     "metadata": {
      "needs_background": "light"
     },
     "output_type": "display_data"
    }
   ],
   "source": [
    "fig, ax = plt.subplots(figsize=(12, 6))\n",
    "\n",
    "ax.bar(us_covid.date,\n",
    "       us_covid.cases,\n",
    "       color='gray',\n",
    "      label=\"total_cases\")\n",
    "ax.plot(us_covid.date,us_covid.day_avg_cases, label='7day_avg')\n",
    "ax.set(xlabel=\"Date\",\n",
    "       ylabel=\"Cases\",\n",
    "       title=\"Covid Cases\\nUSA\",\n",
    "       xlim=[min(us_covid.date), max((us_covid.date))])\n",
    "ax.legend(loc='best')\n",
    "\n",
    "date_form = DateFormatter(\"%Y-%m\")\n",
    "ax.xaxis.set_major_formatter(date_form)\n",
    "plt.show()"
   ]
  },
  {
   "cell_type": "markdown",
   "id": "cf6e1b67-403f-461f-afaf-d700c9ebbaa6",
   "metadata": {},
   "source": [
    "## US - States metrics\n",
    "\n",
    "https://worldpopulationreview.com/cb377140-43b2-439d-96a6-1d265845acd7"
   ]
  },
  {
   "cell_type": "code",
   "execution_count": 74,
   "id": "83b42058-26c2-4884-8ae3-ead3ed0d5193",
   "metadata": {},
   "outputs": [],
   "source": [
    "states_population = pd.read_csv('../data/external/states_population.csv')"
   ]
  },
  {
   "cell_type": "code",
   "execution_count": 75,
   "id": "92c2bb57-2fa4-4ab4-ab14-84e1aac94a0a",
   "metadata": {},
   "outputs": [
    {
     "data": {
      "text/html": [
       "<div>\n",
       "<style scoped>\n",
       "    .dataframe tbody tr th:only-of-type {\n",
       "        vertical-align: middle;\n",
       "    }\n",
       "\n",
       "    .dataframe tbody tr th {\n",
       "        vertical-align: top;\n",
       "    }\n",
       "\n",
       "    .dataframe thead th {\n",
       "        text-align: right;\n",
       "    }\n",
       "</style>\n",
       "<table border=\"1\" class=\"dataframe\">\n",
       "  <thead>\n",
       "    <tr style=\"text-align: right;\">\n",
       "      <th></th>\n",
       "      <th>rank</th>\n",
       "      <th>State</th>\n",
       "      <th>Pop</th>\n",
       "      <th>Growth</th>\n",
       "      <th>Pop2018</th>\n",
       "      <th>Pop2010</th>\n",
       "      <th>growthSince2010</th>\n",
       "      <th>Percent</th>\n",
       "      <th>density</th>\n",
       "    </tr>\n",
       "  </thead>\n",
       "  <tbody>\n",
       "    <tr>\n",
       "      <th>0</th>\n",
       "      <td>1</td>\n",
       "      <td>California</td>\n",
       "      <td>39613493</td>\n",
       "      <td>0.0038</td>\n",
       "      <td>39461588</td>\n",
       "      <td>37319502</td>\n",
       "      <td>0.0615</td>\n",
       "      <td>0.1184</td>\n",
       "      <td>254.2929</td>\n",
       "    </tr>\n",
       "    <tr>\n",
       "      <th>1</th>\n",
       "      <td>2</td>\n",
       "      <td>Texas</td>\n",
       "      <td>29730311</td>\n",
       "      <td>0.0385</td>\n",
       "      <td>28628666</td>\n",
       "      <td>25241971</td>\n",
       "      <td>0.1778</td>\n",
       "      <td>0.0889</td>\n",
       "      <td>113.8081</td>\n",
       "    </tr>\n",
       "    <tr>\n",
       "      <th>2</th>\n",
       "      <td>3</td>\n",
       "      <td>Florida</td>\n",
       "      <td>21944577</td>\n",
       "      <td>0.0330</td>\n",
       "      <td>21244317</td>\n",
       "      <td>18845537</td>\n",
       "      <td>0.1644</td>\n",
       "      <td>0.0656</td>\n",
       "      <td>409.2229</td>\n",
       "    </tr>\n",
       "    <tr>\n",
       "      <th>3</th>\n",
       "      <td>4</td>\n",
       "      <td>New York</td>\n",
       "      <td>19299981</td>\n",
       "      <td>-0.0118</td>\n",
       "      <td>19530351</td>\n",
       "      <td>19399878</td>\n",
       "      <td>-0.0051</td>\n",
       "      <td>0.0577</td>\n",
       "      <td>409.5400</td>\n",
       "    </tr>\n",
       "    <tr>\n",
       "      <th>4</th>\n",
       "      <td>5</td>\n",
       "      <td>Pennsylvania</td>\n",
       "      <td>12804123</td>\n",
       "      <td>0.0003</td>\n",
       "      <td>12800922</td>\n",
       "      <td>12711160</td>\n",
       "      <td>0.0073</td>\n",
       "      <td>0.0383</td>\n",
       "      <td>286.1704</td>\n",
       "    </tr>\n",
       "  </tbody>\n",
       "</table>\n",
       "</div>"
      ],
      "text/plain": [
       "   rank         State       Pop  Growth   Pop2018   Pop2010  growthSince2010  \\\n",
       "0     1    California  39613493  0.0038  39461588  37319502           0.0615   \n",
       "1     2         Texas  29730311  0.0385  28628666  25241971           0.1778   \n",
       "2     3       Florida  21944577  0.0330  21244317  18845537           0.1644   \n",
       "3     4      New York  19299981 -0.0118  19530351  19399878          -0.0051   \n",
       "4     5  Pennsylvania  12804123  0.0003  12800922  12711160           0.0073   \n",
       "\n",
       "   Percent   density  \n",
       "0   0.1184  254.2929  \n",
       "1   0.0889  113.8081  \n",
       "2   0.0656  409.2229  \n",
       "3   0.0577  409.5400  \n",
       "4   0.0383  286.1704  "
      ]
     },
     "execution_count": 75,
     "metadata": {},
     "output_type": "execute_result"
    }
   ],
   "source": [
    "states_population.head()"
   ]
  },
  {
   "cell_type": "code",
   "execution_count": 89,
   "id": "f57f9f66-fa4c-47aa-9547-55b3da800ad6",
   "metadata": {},
   "outputs": [],
   "source": [
    "total_by_state = covid_df[['state','deaths','cases']][covid_df.date > '2021-07-01'].groupby('state').sum()\n",
    "total_by_state = total_by_state.join(states_population.set_index('State'))\n",
    "total_by_state['relative_cases'] = total_by_state.cases / total_by_state.Pop\n",
    "total_by_state['relative_deaths'] = total_by_state.deaths / total_by_state.Pop"
   ]
  },
  {
   "cell_type": "code",
   "execution_count": 90,
   "id": "0dfe2417-c563-46ae-a4cd-64cba7a1eb11",
   "metadata": {},
   "outputs": [
    {
     "data": {
      "text/html": [
       "<div>\n",
       "<style scoped>\n",
       "    .dataframe tbody tr th:only-of-type {\n",
       "        vertical-align: middle;\n",
       "    }\n",
       "\n",
       "    .dataframe tbody tr th {\n",
       "        vertical-align: top;\n",
       "    }\n",
       "\n",
       "    .dataframe thead th {\n",
       "        text-align: right;\n",
       "    }\n",
       "</style>\n",
       "<table border=\"1\" class=\"dataframe\">\n",
       "  <thead>\n",
       "    <tr style=\"text-align: right;\">\n",
       "      <th></th>\n",
       "      <th>deaths</th>\n",
       "      <th>cases</th>\n",
       "      <th>rank</th>\n",
       "      <th>Pop</th>\n",
       "      <th>Growth</th>\n",
       "      <th>Pop2018</th>\n",
       "      <th>Pop2010</th>\n",
       "      <th>growthSince2010</th>\n",
       "      <th>Percent</th>\n",
       "      <th>density</th>\n",
       "      <th>relative_cases</th>\n",
       "      <th>relative_deaths</th>\n",
       "    </tr>\n",
       "    <tr>\n",
       "      <th>state</th>\n",
       "      <th></th>\n",
       "      <th></th>\n",
       "      <th></th>\n",
       "      <th></th>\n",
       "      <th></th>\n",
       "      <th></th>\n",
       "      <th></th>\n",
       "      <th></th>\n",
       "      <th></th>\n",
       "      <th></th>\n",
       "      <th></th>\n",
       "      <th></th>\n",
       "    </tr>\n",
       "  </thead>\n",
       "  <tbody>\n",
       "    <tr>\n",
       "      <th>Alabama</th>\n",
       "      <td>2108</td>\n",
       "      <td>224548</td>\n",
       "      <td>24</td>\n",
       "      <td>4934193</td>\n",
       "      <td>0.0095</td>\n",
       "      <td>4887681</td>\n",
       "      <td>4785437</td>\n",
       "      <td>0.0311</td>\n",
       "      <td>0.0147</td>\n",
       "      <td>97.4271</td>\n",
       "      <td>0.045509</td>\n",
       "      <td>0.000427</td>\n",
       "    </tr>\n",
       "    <tr>\n",
       "      <th>Alaska</th>\n",
       "      <td>103</td>\n",
       "      <td>31882</td>\n",
       "      <td>49</td>\n",
       "      <td>724357</td>\n",
       "      <td>-0.0147</td>\n",
       "      <td>735139</td>\n",
       "      <td>713910</td>\n",
       "      <td>0.0146</td>\n",
       "      <td>0.0022</td>\n",
       "      <td>1.2694</td>\n",
       "      <td>0.044014</td>\n",
       "      <td>0.000142</td>\n",
       "    </tr>\n",
       "    <tr>\n",
       "      <th>Arizona</th>\n",
       "      <td>1647</td>\n",
       "      <td>175410</td>\n",
       "      <td>14</td>\n",
       "      <td>7520103</td>\n",
       "      <td>0.0506</td>\n",
       "      <td>7158024</td>\n",
       "      <td>6407172</td>\n",
       "      <td>0.1737</td>\n",
       "      <td>0.0225</td>\n",
       "      <td>66.2016</td>\n",
       "      <td>0.023325</td>\n",
       "      <td>0.000219</td>\n",
       "    </tr>\n",
       "    <tr>\n",
       "      <th>Arkansas</th>\n",
       "      <td>1590</td>\n",
       "      <td>136768</td>\n",
       "      <td>34</td>\n",
       "      <td>3033946</td>\n",
       "      <td>0.0080</td>\n",
       "      <td>3009733</td>\n",
       "      <td>2921964</td>\n",
       "      <td>0.0383</td>\n",
       "      <td>0.0091</td>\n",
       "      <td>58.3059</td>\n",
       "      <td>0.045079</td>\n",
       "      <td>0.000524</td>\n",
       "    </tr>\n",
       "    <tr>\n",
       "      <th>California</th>\n",
       "      <td>4958</td>\n",
       "      <td>803289</td>\n",
       "      <td>1</td>\n",
       "      <td>39613493</td>\n",
       "      <td>0.0038</td>\n",
       "      <td>39461588</td>\n",
       "      <td>37319502</td>\n",
       "      <td>0.0615</td>\n",
       "      <td>0.1184</td>\n",
       "      <td>254.2929</td>\n",
       "      <td>0.020278</td>\n",
       "      <td>0.000125</td>\n",
       "    </tr>\n",
       "  </tbody>\n",
       "</table>\n",
       "</div>"
      ],
      "text/plain": [
       "            deaths   cases  rank       Pop  Growth   Pop2018   Pop2010  \\\n",
       "state                                                                    \n",
       "Alabama       2108  224548    24   4934193  0.0095   4887681   4785437   \n",
       "Alaska         103   31882    49    724357 -0.0147    735139    713910   \n",
       "Arizona       1647  175410    14   7520103  0.0506   7158024   6407172   \n",
       "Arkansas      1590  136768    34   3033946  0.0080   3009733   2921964   \n",
       "California    4958  803289     1  39613493  0.0038  39461588  37319502   \n",
       "\n",
       "            growthSince2010  Percent   density  relative_cases  \\\n",
       "state                                                            \n",
       "Alabama              0.0311   0.0147   97.4271        0.045509   \n",
       "Alaska               0.0146   0.0022    1.2694        0.044014   \n",
       "Arizona              0.1737   0.0225   66.2016        0.023325   \n",
       "Arkansas             0.0383   0.0091   58.3059        0.045079   \n",
       "California           0.0615   0.1184  254.2929        0.020278   \n",
       "\n",
       "            relative_deaths  \n",
       "state                        \n",
       "Alabama            0.000427  \n",
       "Alaska             0.000142  \n",
       "Arizona            0.000219  \n",
       "Arkansas           0.000524  \n",
       "California         0.000125  "
      ]
     },
     "execution_count": 90,
     "metadata": {},
     "output_type": "execute_result"
    }
   ],
   "source": [
    "total_by_state.head()"
   ]
  },
  {
   "cell_type": "code",
   "execution_count": 102,
   "id": "2c26b839-35da-45d4-933c-b7a41f46aaaf",
   "metadata": {},
   "outputs": [
    {
     "data": {
      "image/png": "[encoded data removed]",
      "text/plain": [
       "<Figure size 864x432 with 1 Axes>"
      ]
     },
     "metadata": {
      "needs_background": "light"
     },
     "output_type": "display_data"
    }
   ],
   "source": [
    "fig, ax = plt.subplots(figsize=(12, 6))\n",
    "\n",
    "ax.scatter(total_by_state.Pop,\n",
    "       total_by_state.cases,\n",
    "       color='gray',\n",
    "      label=\"states\")\n",
    "\n",
    "ax.set(xlabel=\"Population Size\",\n",
    "       ylabel=\"Cases\",\n",
    "       title=\"Covid Cases vs Population\\nUS-States\",\n",
    "       xlim=[min(total_by_state.Pop), max((total_by_state.Pop))])\n",
    "ax.legend(loc='best')\n",
    "\n",
    "for i, txt in enumerate(total_by_state.index):\n",
    "    if total_by_state.Pop.iloc[i] > 10000000:\n",
    "        ax.annotate(txt, (total_by_state.Pop.iloc[i], total_by_state.cases.iloc[i]))\n",
    "\n",
    "line_limits_y = (total_by_state.cases.min(), total_by_state.cases.max()) \n",
    "line_limits_x = (total_by_state.Pop.min(), total_by_state.Pop.max())   \n",
    "plt.plot(line_limits_x, line_limits_y, 'k-', color = 'r')\n",
    "\n",
    "plt.show()"
   ]
  },
  {
   "cell_type": "markdown",
   "id": "f799a4f4-4dd3-4712-8078-ea6ec04602c8",
   "metadata": {},
   "source": [
    "## Hypothesis Test"
   ]
  },
  {
   "cell_type": "code",
   "execution_count": 141,
   "id": "b7244ea1-57d3-443d-a8e6-94431f7918e7",
   "metadata": {},
   "outputs": [],
   "source": [
    "significance_level = 0.05 "
   ]
  },
  {
   "cell_type": "code",
   "execution_count": 139,
   "id": "a1a42fa0-06d4-44bc-b80b-12e7c678d432",
   "metadata": {},
   "outputs": [
    {
     "name": "stdout",
     "output_type": "stream",
     "text": [
      "US total cases: 8,691,543\n",
      "US Estimated population: 334,537,941\n",
      "Cases by population: 0.02598\n",
      "Variance: 0.0001591\n",
      "Std deviation: 0.01261\n"
     ]
    }
   ],
   "source": [
    "print(f'US total cases: {total_by_state.cases.sum():,}')\n",
    "print(f'US Estimated population: {total_by_state.Pop.sum():,}')\n",
    "print(f'Cases by population: {total_by_state.cases.sum() / total_by_state.Pop.sum():.4}')\n",
    "print(f'Variance: {total_by_state.relative_cases.var():.4}')\n",
    "print(f'Std deviation: {total_by_state.relative_cases.std():.4}')"
   ]
  },
  {
   "cell_type": "code",
   "execution_count": 145,
   "id": "8d7313bf-be2f-420a-91f4-d0d0d31702ba",
   "metadata": {},
   "outputs": [],
   "source": [
    "not_reject_msg = f\"The data do not provide enough statistical evidence to say that, the proportion of covid-19 cases are different, with significance level of {significance_level:%}.\"\n",
    "reject_msg = f\"The data provide enough statistical evidence to say that, the proportion of covid-19 cases are different, with significance level of {significance_level:.0%}.\""
   ]
  },
  {
   "cell_type": "markdown",
   "id": "c9f046e4-e0ab-489b-baf3-1a86c253045f",
   "metadata": {},
   "source": [
    "### Florida"
   ]
  },
  {
   "cell_type": "code",
   "execution_count": 146,
   "id": "0e31ded5-4990-49a4-a379-96180bdc7f38",
   "metadata": {},
   "outputs": [
    {
     "name": "stdout",
     "output_type": "stream",
     "text": [
      "Florida total cases: 1,185,261\n",
      "Florida cases from US total: 0.1364\n",
      "Florida estimated population: 21,944,577\n",
      "Florida cases by population: 0.05401\n"
     ]
    }
   ],
   "source": [
    "print(f'Florida total cases: {total_by_state.cases[\"Florida\"]:,}')\n",
    "print(f'Florida cases from US total: {total_by_state.cases[\"Florida\"] / total_by_state.cases.sum():.4}')\n",
    "print(f'Florida estimated population: {total_by_state.Pop[\"Florida\"]:,}')\n",
    "print(f'Florida cases by population: {total_by_state.cases[\"Florida\"] / total_by_state.Pop[\"Florida\"]:.4}')"
   ]
  },
  {
   "cell_type": "code",
   "execution_count": 147,
   "id": "cb5223e7-7e74-4852-ada0-0a03d0452310",
   "metadata": {},
   "outputs": [
    {
     "name": "stdout",
     "output_type": "stream",
     "text": [
      "Z-stat: 10411.952175460827\n",
      "P-value: 0.0\n",
      "The data provide enough statistical evidence to say that, the proportion of covid-19 cases are different, with significance level of 5%.\n"
     ]
    }
   ],
   "source": [
    "stat, pval = proportions_ztest(count=total_by_state.cases[\"Florida\"],\n",
    "                  nobs=total_by_state.Pop[\"Florida\"],\n",
    "                  value=total_by_state.cases.sum() / total_by_state.Pop.sum(),\n",
    "                 alternative='larger',\n",
    "                 prop_var=total_by_state.relative_cases.var())\n",
    "print(f'Z-stat: {stat}')\n",
    "print(f'P-value: {pval}')\n",
    "if pval < significance_level:\n",
    "    print(reject_msg)\n",
    "else:\n",
    "    print(not_reject_msg)"
   ]
  },
  {
   "cell_type": "markdown",
   "id": "9e465c2e-59fb-4110-a29b-828235a1f684",
   "metadata": {},
   "source": [
    "### New York"
   ]
  },
  {
   "cell_type": "code",
   "execution_count": 133,
   "id": "f0fd6c47-3247-4b41-bc38-496bb807d30d",
   "metadata": {},
   "outputs": [
    {
     "name": "stdout",
     "output_type": "stream",
     "text": [
      "New York total cases: 266,620\n",
      "New York cases from US total: 0.03068\n",
      "New York estimated population: 19,299,981\n",
      "New York cases by population: 0.01381\n"
     ]
    }
   ],
   "source": [
    "print(f'New York total cases: {total_by_state.cases[\"New York\"]:,}')\n",
    "print(f'New York cases from US total: {total_by_state.cases[\"New York\"] / total_by_state.cases.sum():.4}')\n",
    "print(f'New York estimated population: {total_by_state.Pop[\"New York\"]:,}')\n",
    "print(f'New York cases by population: {total_by_state.cases[\"New York\"] / total_by_state.Pop[\"New York\"]:.4}')"
   ]
  },
  {
   "cell_type": "code",
   "execution_count": 149,
   "id": "2a23540f-990e-4309-a121-186eb5701f62",
   "metadata": {},
   "outputs": [
    {
     "name": "stdout",
     "output_type": "stream",
     "text": [
      "Z-stat: -4238.055667104175\n",
      "P-value: 0.0\n",
      "The data provide enough statistical evidence to say that, the proportion of covid-19 cases are different, with significance level of 5%.\n"
     ]
    }
   ],
   "source": [
    "stat, pval = proportions_ztest(count=total_by_state.cases[\"New York\"],\n",
    "                  nobs=total_by_state.Pop[\"New York\"],\n",
    "                  value=total_by_state.cases.sum() / total_by_state.Pop.sum(),\n",
    "                 alternative='smaller',\n",
    "                 prop_var=total_by_state.relative_cases.var())\n",
    "print(f'Z-stat: {stat}')\n",
    "print(f'P-value: {pval}')\n",
    "if pval < significance_level:\n",
    "    print(reject_msg)\n",
    "else:\n",
    "    print(not_reject_msg)"
   ]
  },
  {
   "cell_type": "markdown",
   "id": "f43dab44-f932-4e46-9a43-53ccab1ac027",
   "metadata": {},
   "source": [
    "## TODO\n",
    "* Check Z-test values (too high)\n",
    "* Show cases vs density of the city\n",
    "* Test correlation with mask usage"
   ]
  },
  {
   "cell_type": "code",
   "execution_count": null,
   "id": "980e944a-bd2b-49b4-99a0-12353aab6906",
   "metadata": {},
   "outputs": [],
   "source": []
  }
 ],
 "metadata": {
  "kernelspec": {
   "display_name": "Python 3",
   "language": "python",
   "name": "python3"
  },
  "language_info": {
   "codemirror_mode": {
    "name": "ipython",
    "version": 3
   },
   "file_extension": ".py",
   "mimetype": "text/x-python",
   "name": "python",
   "nbconvert_exporter": "python",
   "pygments_lexer": "ipython3",
   "version": "3.8.8"
  }
 },
 "nbformat": 4,
 "nbformat_minor": 5
}
